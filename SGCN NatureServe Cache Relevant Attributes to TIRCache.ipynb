{
 "cells": [
  {
   "cell_type": "markdown",
   "metadata": {},
   "source": [
    "# Use NatureServe Global Element ID to retrieve and cache relevant information"
   ]
  },
  {
   "cell_type": "markdown",
   "metadata": {},
   "source": [
    "This notebook builds on previous tircache notebooks for the Species of Greatest Conservation Need system. This one uses previously cached NatureServe identifiers to get the comprehensive species report from NatureServe and cache relevant attributes for the SGCN app. We can tweak this later to get and cache more information into the Taxonomic Information Registry Cache (tircache). For now, we get the following:\n",
    "\n",
    "* Global status rank code\n",
    "* Description of the rounded global status rank\n",
    "* Date the global status was last reviewed\n",
    "* US national status rank code\n",
    "* Date the US national status rank was last reviewed\n",
    "* Each US state where there is a rank code listed\n",
    "\n",
    "When working with this information, it is important to use the date/time stamp for the records pulled and cached from NatureServe to let people know when the information was retrieved. Once we get the microservices architecture working, we will build this out into something that fires off periodically to go and get new information from NatureServe for our uses."
   ]
  },
  {
   "cell_type": "code",
   "execution_count": 9,
   "metadata": {
    "collapsed": false
   },
   "outputs": [],
   "source": [
    "import requests,datetime,configparser\n",
    "from lxml import etree\n",
    "from io import StringIO, BytesIO"
   ]
  },
  {
   "cell_type": "code",
   "execution_count": 10,
   "metadata": {
    "collapsed": true
   },
   "outputs": [],
   "source": [
    "# Set defaults\n",
    "dt = datetime.datetime.utcnow().isoformat()"
   ]
  },
  {
   "cell_type": "code",
   "execution_count": 11,
   "metadata": {
    "collapsed": false
   },
   "outputs": [],
   "source": [
    "# Get API keys and any other config details from a file that is external to the code.\n",
    "config = configparser.RawConfigParser()\n",
    "config.read_file(open(r'/Users/sky/Documents/configs/stuff.py'))\n",
    "\n",
    "# Build base URL with API key using input the external config.\n",
    "def getBaseURLGC2():\n",
    "    baseURL_BCB = config.get('baseURLs','gc2SQLAPI').replace('\"','')\n",
    "    apiKey_BCB = config.get('apiKeys','apiKey_GC2_BCB').replace('\"','')\n",
    "    return baseURL_BCB+\"bcb?key=\"+apiKey_BCB\n",
    "\n",
    "def getBaseURLNatureServe():\n",
    "    baseURL_NatureServe = config.get('baseURLs', 'natureServeSpeciesQueryBaseURL').replace('\"','')\n",
    "    apiKey_NatureServe = config.get('apiKeys','apiKey_NatureServe').replace('\"','')\n",
    "    return baseURL_NatureServe+\"?NSAccessKeyId=\"+apiKey_NatureServe"
   ]
  },
  {
   "cell_type": "code",
   "execution_count": 12,
   "metadata": {
    "collapsed": true
   },
   "outputs": [],
   "source": [
    "# Basic function to insert subject ID, property, and value into tircache\n",
    "def insertTupleInTirCache(subjectid,prop,value):\n",
    "    # Build query string\n",
    "    insertSQL = \"INSERT INTO tircache (subjectid,property,value) VALUES ('\"+subjectid+\"','\"+prop+\"','\"+value+\"')\"\n",
    "    # Execute query\n",
    "    r = requests.get(getBaseURLGC2()+\"&q=\"+insertSQL)"
   ]
  },
  {
   "cell_type": "code",
   "execution_count": 13,
   "metadata": {
    "collapsed": true
   },
   "outputs": [],
   "source": [
    "# Retrieve NatureServe Global Element IDs from tircache to process\n",
    "def getSubjectIDs():\n",
    "    # Build query string to retrieve data\n",
    "    targetDataSQL = \"SELECT value AS subjectid \\\n",
    "        FROM tircache \\\n",
    "        WHERE property = 'NatureServe:globalSpeciesUid' \\\n",
    "        AND value NOT IN \\\n",
    "        (SELECT subjectid \\\n",
    "            FROM tircache \\\n",
    "            WHERE property = 'NatureServe:RetrieveComprehensive:PositiveResponse') \\\n",
    "        LIMIT 20\"\n",
    "    # Get Data\n",
    "    targetData = requests.get(getBaseURLGC2()+\"&q=\"+targetDataSQL).json()\n",
    "    return targetData"
   ]
  },
  {
   "cell_type": "code",
   "execution_count": 16,
   "metadata": {
    "collapsed": false
   },
   "outputs": [],
   "source": [
    "# Loop through the target data, extract Subject IDs, retrieve data from service, and insert results in tircache\n",
    "def getNatureServeDataFromUID(targetData):\n",
    "    for feature in targetData['features']:\n",
    "        # Set the subjectid for query and recording\n",
    "        strSubjectId = feature['properties']['subjectid']\n",
    "        \n",
    "        # Set the URL path for the API query and retrieve data with requests\n",
    "        natureServeQueryURL = getBaseURLNatureServe()+\"&uid=\"+strSubjectId\n",
    "        natureServeData = requests.get(natureServeQueryURL)\n",
    "\n",
    "        # Clean up the XML returned from NatureServe API for better processing, read it as IO, and create a tree for parsing\n",
    "        strNatureServeData = natureServeData.text\n",
    "        strNatureServeData = strNatureServeData.replace('<?xml version=\"1.0\" encoding=\"utf-8\"?>\\r\\n\\r\\n', '')\n",
    "        strNatureServeData = strNatureServeData.replace('\\r\\n    xsi:schemaLocation=\"http://services.natureserve.org/docs/schemas/biodiversityDataFlow/1 http://services.natureserve.org/docs/schemas/biodiversityDataFlow/1/\"\\r\\n    xmlns=\"http://services.natureserve.org/docs/schemas/biodiversityDataFlow/1\"\\r\\n    xmlns:xsi=\"http://www.w3.org/2001/XMLSchema-instance\"\\r\\n    schemaVersion=\"1.1\"', '')\n",
    "        f = StringIO(strNatureServeData)\n",
    "        tree = etree.parse(f)\n",
    "        root = tree.getroot()\n",
    "        docLength = len(root.getchildren())\n",
    "\n",
    "        # Test the response because I've found that not everything with a global element ID seems to come back with a response here\n",
    "        if docLength > 0:\n",
    "            # Grab out the specific elements we want to cache\n",
    "            insertTupleInTirCache(strSubjectId,\"NatureServe:RetrieveComprehensive:PositiveResponse\",dt)\n",
    "            insertTupleInTirCache(strSubjectId,\"NatureServe:GlobalStatusRank\",tree.xpath('/globalSpeciesList/globalSpecies/conservationStatus/natureServeStatus/globalStatus/rank/code')[0].text)\n",
    "            insertTupleInTirCache(strSubjectId,\"NatureServe:roundedGlobalStatusRankDescription\",tree.xpath('/globalSpeciesList/globalSpecies/conservationStatus/natureServeStatus/globalStatus/roundedRank/description')[0].text)\n",
    "            try:\n",
    "                insertTupleInTirCache(strSubjectId,\"NatureServe:globalStatusLastReviewed\",tree.xpath('/globalSpeciesList/globalSpecies/conservationStatus/natureServeStatus/globalStatus/statusLastReviewed')[0].text)\n",
    "            except:\n",
    "                print (\"FAIL: \"+strSubjectId+\" ON globalStatusLastReviewed\")\n",
    "            insertTupleInTirCache(strSubjectId,\"NatureServe:usNationalStatusRankCode\",tree.xpath(\"//nationalStatus[@nationCode='US']/rank/code\")[0].text)\n",
    "            try:\n",
    "                insertTupleInTirCache(strSubjectId,\"NatureServe:usNationalStatusLastReviewed\",tree.xpath(\"//nationalStatus[@nationCode='US']/statusLastReviewed\")[0].text)\n",
    "            except:\n",
    "                print (\"FAIL: \"+strSubjectId+\" ON usNationalStatusLastReviewed\")\n",
    "\n",
    "            # Loop through US states in the \"subnationalStatuses\" and put state names and codes into the tircache\n",
    "            usStatesTree = etree.ElementTree(tree.xpath(\"//nationalStatus[@nationCode='US']/subnationalStatuses\")[0])\n",
    "            for elem in usStatesTree.iter():\n",
    "                stateName = elem.attrib.get('subnationName')\n",
    "                if isinstance(stateName, str):\n",
    "                    insertTupleInTirCache(strSubjectId,\"NatureServe:StateCode:\"+stateName,tree.xpath(\"//subnationalStatus[@subnationName='\"+stateName+\"']/rank/code\")[0].text)\n",
    "        else:\n",
    "            insertTupleInTirCache(strSubjectId,\"NatureServe:RetrieveComprehensive:NegativeResponse\",dt)\n",
    "            print (docLength, strSubjectId)"
   ]
  },
  {
   "cell_type": "code",
   "execution_count": 17,
   "metadata": {
    "collapsed": false
   },
   "outputs": [
    {
     "name": "stdout",
     "output_type": "stream",
     "text": [
      "0 ELEMENT_GLOBAL.2.111247\n",
      "0 ELEMENT_GLOBAL.2.113177\n",
      "0 ELEMENT_GLOBAL.2.103412\n",
      "0 ELEMENT_GLOBAL.2.111247\n",
      "0 ELEMENT_GLOBAL.2.113177\n",
      "0 ELEMENT_GLOBAL.2.103412\n",
      "0 ELEMENT_GLOBAL.2.111247\n",
      "0 ELEMENT_GLOBAL.2.113177\n",
      "0 ELEMENT_GLOBAL.2.103412\n",
      "0 ELEMENT_GLOBAL.2.111247\n",
      "0 ELEMENT_GLOBAL.2.113177\n",
      "0 ELEMENT_GLOBAL.2.103412\n",
      "0 ELEMENT_GLOBAL.2.111247\n",
      "0 ELEMENT_GLOBAL.2.113177\n",
      "0 ELEMENT_GLOBAL.2.103412\n",
      "0 ELEMENT_GLOBAL.2.111247\n",
      "0 ELEMENT_GLOBAL.2.113177\n",
      "0 ELEMENT_GLOBAL.2.103412\n",
      "0 ELEMENT_GLOBAL.2.111247\n",
      "0 ELEMENT_GLOBAL.2.113177\n"
     ]
    }
   ],
   "source": [
    "# Run the process by firing functions\n",
    "getNatureServeDataFromUID(getSubjectIDs())"
   ]
  },
  {
   "cell_type": "code",
   "execution_count": null,
   "metadata": {
    "collapsed": true
   },
   "outputs": [],
   "source": []
  }
 ],
 "metadata": {
  "anaconda-cloud": {},
  "kernelspec": {
   "display_name": "Python 3",
   "language": "python",
   "name": "python3"
  },
  "language_info": {
   "codemirror_mode": {
    "name": "ipython",
    "version": 3
   },
   "file_extension": ".py",
   "mimetype": "text/x-python",
   "name": "python",
   "nbconvert_exporter": "python",
   "pygments_lexer": "ipython3",
   "version": "3.5.3"
  }
 },
 "nbformat": 4,
 "nbformat_minor": 0
}
