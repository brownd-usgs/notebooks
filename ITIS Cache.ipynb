{
 "cells": [
  {
   "cell_type": "markdown",
   "metadata": {},
   "source": [
    "# Get ITIS information and cache it in tircache"
   ]
  },
  {
   "cell_type": "markdown",
   "metadata": {},
   "source": [
    "This notebook provides a prototype for a microservice approach to grab information from the Integrated Taxonomic Information System (ITIS) and store it in the Taxonomic Information Registry Cache (tircache). Eventually, this needs to be wrapped as a set of microservices on the Kafka queue. I tried to break things up into logical functions that should translate fairly closely to the microservices architecture we are working to build out."
   ]
  },
  {
   "cell_type": "code",
   "execution_count": 22,
   "metadata": {
    "collapsed": false
   },
   "outputs": [],
   "source": [
    "import requests,datetime,configparser"
   ]
  },
  {
   "cell_type": "code",
   "execution_count": 23,
   "metadata": {
    "collapsed": true
   },
   "outputs": [],
   "source": [
    "# Set defaults\n",
    "targetData = \"sgcn\"\n",
    "dt = datetime.datetime.utcnow().isoformat()\n",
    "itisGetCommonNamesJSONBaseURL = \"https://www.itis.gov/ITISWebService/jsonservice/getCommonNamesFromTSN?tsn=\""
   ]
  },
  {
   "cell_type": "code",
   "execution_count": 24,
   "metadata": {
    "collapsed": true
   },
   "outputs": [],
   "source": [
    "# Get API keys and any other config details from a file that is external to the code.\n",
    "config = configparser.RawConfigParser()\n",
    "config.read_file(open(r'/Users/sky/Documents/configs/stuff.py'))"
   ]
  },
  {
   "cell_type": "code",
   "execution_count": 25,
   "metadata": {
    "collapsed": false
   },
   "outputs": [],
   "source": [
    "# Build base URL with API key using input the external config.\n",
    "def getBaseURL():\n",
    "    gc2APIKey = config.get('apiKeys','apiKey_GC2_BCB').replace('\"','')\n",
    "    apiBaseURL = \"https://gc2.mapcentia.com/api/v1/sql/bcb?key=\"+gc2APIKey\n",
    "    return apiBaseURL"
   ]
  },
  {
   "cell_type": "code",
   "execution_count": 26,
   "metadata": {
    "collapsed": true
   },
   "outputs": [],
   "source": [
    "# Basic function to insert subject ID, property, and value into tircache\n",
    "def insertTupleInTirCache(subjectid,prop,value):\n",
    "    # Build query string\n",
    "    insertSQL = \"INSERT INTO tircache (subjectid,property,value) VALUES ('\"+subjectid+\"','\"+prop+\"','\"+value+\"')\"\n",
    "    # Execute query\n",
    "    r = requests.get(getBaseURL()+\"&q=\"+insertSQL)"
   ]
  },
  {
   "cell_type": "markdown",
   "metadata": {},
   "source": [
    "The function below grabs up some data to process. Eventually, this kind of thing should probably be a periodic or triggered maintenance script that is kicked off in the message queue. Right now, it just looks to see if the tircache (data table containing properties and values tied to identifiers) already has the IDs it is gearing up to process. In the future, we should build in some kind of checkpoint to the system where we also look at the datetime stamp for when the particular data was input and run it again to re-cache new data. This could be triggered by another process that checks the source for changes.\n",
    "\n",
    "The query also only currently retrieves 10 records to process. I kept the number down for demonstration purposes here in the notebook, and we'll see about setting this up as a microservice somewhere to run in the background."
   ]
  },
  {
   "cell_type": "code",
   "execution_count": 27,
   "metadata": {
    "collapsed": true
   },
   "outputs": [],
   "source": [
    "# Retrieve target data (only SGCN ITIS IDs at this point)\n",
    "def getSubjectIDs(targetData):\n",
    "    if targetData == 'sgcn':\n",
    "        # Build query string to retrieve data\n",
    "        targetDataSQL = \"SELECT DISTINCT sgcn.taxonomicauthorityid_accepted AS subjectid \\\n",
    "            FROM sgcn \\\n",
    "            WHERE sgcn.taxonomicauthorityid_accepted LIKE '%itis%' AND \\\n",
    "            sgcn.taxonomicauthorityid_accepted NOT IN \\\n",
    "            (SELECT DISTINCT tircache.subjectid FROM tircache \\\n",
    "            WHERE tircache.subjectid LIKE '%itis%' AND tircache.property LIKE 'ITIS:RecordCheck%') \\\n",
    "            LIMIT 1000\"\n",
    "        # Get Data\n",
    "        targetData = requests.get(getBaseURL()+\"&q=\"+targetDataSQL).json()\n",
    "        return targetData"
   ]
  },
  {
   "cell_type": "code",
   "execution_count": 28,
   "metadata": {
    "collapsed": true
   },
   "outputs": [],
   "source": [
    "# Extract the TSN from the longer \"URI-like\" string we used for ITIS in the SGCN data\n",
    "def extractTSN(subjectid):\n",
    "    tsn = subjectid.replace('http://services.itis.gov/?q=tsn:','')\n",
    "    return tsn"
   ]
  },
  {
   "cell_type": "code",
   "execution_count": 29,
   "metadata": {
    "collapsed": false
   },
   "outputs": [],
   "source": [
    "# Loop through the target data, extract Subject IDs (only ITIS at this point), retrieve data from service, and insert results in tircache\n",
    "def getITISCommonNamesFromTSN(targetData):\n",
    "    for feature in targetData['features']:\n",
    "        # Set the subjectid for query and recording\n",
    "        strSubjectId = feature['properties']['subjectid']\n",
    "        \n",
    "        try:\n",
    "            # Set the URL path to get the common names from TSN via one of the ITIS JSON service end points, get the response JSON, and pull out the common names structure\n",
    "            itisCommonNameURL = itisGetCommonNamesJSONBaseURL+extractTSN(strSubjectId)\n",
    "            itisCommonNameJSON = requests.get(itisCommonNameURL).json()\n",
    "            commonNamesJSON = itisCommonNameJSON['commonNames']\n",
    "\n",
    "            # Check the response and insert activity plus common names when present\n",
    "            if str(commonNamesJSON[0]) == 'None':\n",
    "                insertTupleInTirCache(strSubjectId,\"ITIS:RecordCheck:CommonName:NegativeResponse\",dt)\n",
    "            else:\n",
    "                insertTupleInTirCache(strSubjectId,\"ITIS:RecordCheck:CommonName:PositiveResponse\",dt)\n",
    "                for x in commonNamesJSON:\n",
    "                    # Escape the oftfound single quotes in common name\n",
    "                    strCommonName = x['commonName'].replace(\"'\", \"''\")\n",
    "                    # Insert common name with language qualifier in the property\n",
    "                    insertTupleInTirCache(strSubjectId,\"ITIS:BiologicalSpecies:CommonName:\"+x['language'],strCommonName)\n",
    "        except:\n",
    "            print (\"Problem with \"+strSubjectId)"
   ]
  },
  {
   "cell_type": "code",
   "execution_count": 31,
   "metadata": {
    "collapsed": false,
    "scrolled": true
   },
   "outputs": [
    {
     "name": "stdout",
     "output_type": "stream",
     "text": [
      "Problem with http://services.itis.gov/?q=tsn:\n"
     ]
    }
   ],
   "source": [
    "# Run the process by firing functions\n",
    "getITISCommonNamesFromTSN(getSubjectIDs(\"sgcn\"))"
   ]
  },
  {
   "cell_type": "markdown",
   "metadata": {},
   "source": [
    "TO DO:\n",
    "* Spend some time working up a vocabulary for properties used in this context. Examine whether or not the overall property registry work for the DataDistillery project could apply. Current property names are kind of a hack.\n",
    "* Build out the building functions for tircache into a module.\n",
    "* Investigate wrapping the building block functions for execution as microservices from Kafka queue."
   ]
  },
  {
   "cell_type": "code",
   "execution_count": null,
   "metadata": {
    "collapsed": true
   },
   "outputs": [],
   "source": []
  }
 ],
 "metadata": {
  "anaconda-cloud": {},
  "kernelspec": {
   "display_name": "Python 3",
   "language": "python",
   "name": "python3"
  },
  "language_info": {
   "codemirror_mode": {
    "name": "ipython",
    "version": 3
   },
   "file_extension": ".py",
   "mimetype": "text/x-python",
   "name": "python",
   "nbconvert_exporter": "python",
   "pygments_lexer": "ipython3",
   "version": "3.5.3"
  }
 },
 "nbformat": 4,
 "nbformat_minor": 0
}
