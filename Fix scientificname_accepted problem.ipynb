{
 "cells": [
  {
   "cell_type": "code",
   "execution_count": 2,
   "metadata": {
    "collapsed": true,
    "deletable": true,
    "editable": true
   },
   "outputs": [],
   "source": [
    "import requests,datetime,configparser\n",
    "from IPython.display import display"
   ]
  },
  {
   "cell_type": "code",
   "execution_count": 21,
   "metadata": {
    "collapsed": false,
    "deletable": true,
    "editable": true
   },
   "outputs": [],
   "source": [
    "# Set defaults\n",
    "targetData = \"sgcn\"\n",
    "dt = datetime.datetime.utcnow().isoformat()\n",
    "itisGetCommonNamesJSONBaseURL = \"https://www.itis.gov/ITISWebService/jsonservice/getAcceptedNamesFromTSN?tsn=\"\n",
    "itisGetScientificNameJSONBaseURL = \"https://www.itis.gov/ITISWebService/jsonservice/getScientificNameFromTSN?tsn=\""
   ]
  },
  {
   "cell_type": "code",
   "execution_count": 22,
   "metadata": {
    "collapsed": true,
    "deletable": true,
    "editable": true
   },
   "outputs": [],
   "source": [
    "# Get API keys and any other config details from a file that is external to the code.\n",
    "config = configparser.RawConfigParser()\n",
    "config.read_file(open(r'/Users/sky/Documents/configs/stuff.py'))"
   ]
  },
  {
   "cell_type": "code",
   "execution_count": 23,
   "metadata": {
    "collapsed": true,
    "deletable": true,
    "editable": true
   },
   "outputs": [],
   "source": [
    "# Build base URL with API key using input the external config.\n",
    "def getBaseURL():\n",
    "    gc2APIKey = config.get('apiKeys','apiKey_GC2_BCB').replace('\"','')\n",
    "    apiBaseURL = \"https://gc2.mapcentia.com/api/v1/sql/bcb?key=\"+gc2APIKey\n",
    "    return apiBaseURL"
   ]
  },
  {
   "cell_type": "code",
   "execution_count": 24,
   "metadata": {
    "collapsed": true,
    "deletable": true,
    "editable": true
   },
   "outputs": [],
   "source": [
    "# Retrieve target data\n",
    "def getSubjectIDs(targetData):\n",
    "    if targetData == 'sgcn':\n",
    "        # Build query string to retrieve data\n",
    "        targetDataSQL = \"SELECT DISTINCT sgcn.taxonomicauthorityid_accepted AS subjectid \\\n",
    "            FROM sgcn \\\n",
    "            WHERE sgcn.taxonomicauthorityid_accepted LIKE '%itis%' AND \\\n",
    "            sgcn.scientificname_accepted = ''\"\n",
    "        # Get Data\n",
    "        targetData = requests.get(getBaseURL()+\"&q=\"+targetDataSQL).json()\n",
    "        return targetData"
   ]
  },
  {
   "cell_type": "code",
   "execution_count": 25,
   "metadata": {
    "collapsed": true,
    "deletable": true,
    "editable": true
   },
   "outputs": [],
   "source": [
    "# Extract the TSN from the longer \"URI-like\" string we used for ITIS in the SGCN data\n",
    "def extractTSN(subjectid):\n",
    "    tsn = subjectid.replace('http://services.itis.gov/?q=tsn:','')\n",
    "    return tsn"
   ]
  },
  {
   "cell_type": "code",
   "execution_count": 46,
   "metadata": {
    "collapsed": false,
    "deletable": true,
    "editable": true
   },
   "outputs": [],
   "source": [
    "# Loop through the target data, extract Subject IDs (only ITIS at this point), retrieve data from service, and insert results in tircache\n",
    "def getITISScientificNameFromTSN(targetData):\n",
    "    for feature in targetData['features']:\n",
    "        # Set the subjectid for query and recording\n",
    "        strSubjectId = feature['properties']['subjectid']\n",
    "\n",
    "#        itisURL = itisGetScientificNameJSONBaseURL+extractTSN(strSubjectId)\n",
    "#        itisJSON = requests.get(itisURL).json()\n",
    "#        q = requests.get(getBaseURL()+\"&q=UPDATE sgcn SET scientificname_accepted='\"+itisJSON['combinedName']+\"' WHERE taxonomicauthorityid_accepted='\"+strSubjectId+\"'\").json()\n",
    "#        display (q)\n",
    "\n",
    "        try:\n",
    "            # Set the URL path to get the common names from TSN via one of the ITIS JSON service end points, get the response JSON, and pull out the common names structure\n",
    "            itisURL = itisGetScientificNameJSONBaseURL+extractTSN(strSubjectId)\n",
    "            itisJSON = requests.get(itisURL).json()\n",
    "            q = requests.get(getBaseURL()+\"&q=UPDATE sgcn SET scientificname_accepted='\"+itisJSON['combinedName']+\"' WHERE taxonomicauthorityid_accepted='\"+strSubjectId+\"'\").json()\n",
    "            display (q)\n",
    "\n",
    "        except:\n",
    "            print (\"Problem with \"+strSubjectId)"
   ]
  },
  {
   "cell_type": "code",
   "execution_count": 47,
   "metadata": {
    "collapsed": false,
    "deletable": true,
    "editable": true
   },
   "outputs": [],
   "source": [
    "getITISScientificNameFromTSN(getSubjectIDs(\"sgcn\"))"
   ]
  },
  {
   "cell_type": "code",
   "execution_count": null,
   "metadata": {
    "collapsed": true,
    "deletable": true,
    "editable": true
   },
   "outputs": [],
   "source": []
  }
 ],
 "metadata": {
  "kernelspec": {
   "display_name": "Python 3",
   "language": "python",
   "name": "python3"
  },
  "language_info": {
   "codemirror_mode": {
    "name": "ipython",
    "version": 3
   },
   "file_extension": ".py",
   "mimetype": "text/x-python",
   "name": "python",
   "nbconvert_exporter": "python",
   "pygments_lexer": "ipython3",
   "version": "3.5.3"
  }
 },
 "nbformat": 4,
 "nbformat_minor": 0
}
