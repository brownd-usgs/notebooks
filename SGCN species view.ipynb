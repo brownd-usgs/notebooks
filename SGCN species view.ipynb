{
 "cells": [
  {
   "cell_type": "markdown",
   "metadata": {},
   "source": [
    "# SGCN species view\n",
    "\n",
    "This notebook provides the necessary queries to execute the [species view](https://www1.usgs.gov/csas/swap/species_view.html) page in the reworked SWAP application. It runs a query based on a given species display name. The scientificname_display property in the SGCN data is based on either the final accepted name from the taxonomic authority or the cleaned up original scientific name for cases where the authority did not return a value. The display name serves as a functional key in the data to return information pertinent to taxa in the system."
   ]
  },
  {
   "cell_type": "code",
   "execution_count": 42,
   "metadata": {
    "collapsed": true
   },
   "outputs": [],
   "source": [
    "import requests\n",
    "from ipywidgets import widgets\n",
    "from IPython.display import display\n",
    "\n",
    "gc2BaseSQLAPIURL = \"https://gc2.mapcentia.com/api/v1/sql/bcb\""
   ]
  },
  {
   "cell_type": "markdown",
   "metadata": {},
   "source": [
    "This function takes a scientificname_display value and searches via the sgcn table in the GC2 instance SQL API for states by year reported. The results can be used through an appropriate mapping engine to display a US map with states and territories highlighted appropriately.\n",
    "\n",
    "As with other pages for the new reworked SWAP app, it would be really great if the new system can respond to URL parameters so that we can simply link to these species pages with the scientific name in the URL."
   ]
  },
  {
   "cell_type": "code",
   "execution_count": 43,
   "metadata": {
    "collapsed": false,
    "scrolled": true
   },
   "outputs": [],
   "source": [
    "def searchName(sender):\n",
    "    speciesSearchSQL = \"SELECT state, sgcnyear, taxonomicauthorityid_accepted \\\n",
    "        FROM sgcn \\\n",
    "        WHERE scientificname_display = '\"+speciesName.value+\"' \\\n",
    "        ORDER BY sgcnyear,state\"\n",
    "    gc2SearchURL = gc2BaseSQLAPIURL+\"?q=\"+speciesSearchSQL\n",
    "    gc2SearchResults = requests.get(gc2SearchURL).json()\n",
    "    \n",
    "    # Show the JSON output from the states query\n",
    "    print (\"SGCN state results by year for \"+speciesName.value)\n",
    "    display(gc2SearchResults)\n",
    "\n",
    "    # Get the taxonomic authority ID (if applicable) and run the ITIS check function\n",
    "    x = 0\n",
    "    taxonomicauthorityid_accepted = \"\"\n",
    "    for feature in gc2SearchResults['features']:\n",
    "        taxonomicauthorityid_accepted = feature['properties']['taxonomicauthorityid_accepted']\n",
    "        x = x + 1\n",
    "        if x > 0:\n",
    "            break\n",
    "\n",
    "    # Fire off the function to get information for the species from the TIR Cache\n",
    "    getTIRCache(taxonomicauthorityid_accepted,speciesName.value)\n",
    "    \n",
    "    # Fire the function to get states not yet reporting\n",
    "    sgcnStatesNotReporting()"
   ]
  },
  {
   "cell_type": "markdown",
   "metadata": {},
   "source": [
    "# States not reporting\n",
    "We still need to report on the list of states that have not yet submitted reports. This can be achieved from the data by querying for states or territories that had reported in 2005 but are not yet in the 2015 data."
   ]
  },
  {
   "cell_type": "code",
   "execution_count": 47,
   "metadata": {
    "collapsed": false
   },
   "outputs": [],
   "source": [
    "def sgcnStatesNotReporting():\n",
    "    statesNotReportingSQL = \"SELECT DISTINCT state \\\n",
    "        FROM sgcn \\\n",
    "        WHERE sgcnyear = 2005 \\\n",
    "        AND state NOT IN \\\n",
    "        (SELECT DISTINCT state FROM sgcn WHERE sgcnyear=2015)\"\n",
    "    gc2StatesNotReportingURL = gc2BaseSQLAPIURL+\"?q=\"+statesNotReportingSQL\n",
    "    gc2StatesNotReporting = requests.get(gc2StatesNotReportingURL).json()\n",
    "    print (\"Query result for states not yet reporting\")\n",
    "    display(gc2StatesNotReporting)"
   ]
  },
  {
   "cell_type": "markdown",
   "metadata": {},
   "source": [
    "# Taxonomic Information Registry\n",
    "I've gone ahead and built out a data source called tircache in the GC2 instance and developed a couple of scripts to retrieve selected information from the FWS ECOS TESS system and the NatureServe web services into that store. Tircache is basically a simple triple store of identifiers tied to values through a rudimentary predicate system based on URN syntax. This isn't the most elegant way to handle the information, but it can serve the basic purpose while we work out a better solution.\n",
    "\n",
    "The following sections deal with three types of information:\n",
    "* Common names for species\n",
    "* Federal listing status from FWS based on ITIS TSN\n",
    "* NatureServe status information for US and states based on scientific name lookup and global ID response\n",
    "\n",
    "Not all of the species names and IDs have been run, so this data will not yet be complete. However, it shows the basic response information that can be incorporated with some conditional logic on the species view page in the SWAP app.\n",
    "\n",
    "The query looks for all information from the tircache table for a given species based on either taxonomic authority ID or scientific name (both of which are used as keys/subject IDs).\n",
    "\n",
    "Note: I need to rework this just a bit once I start grabbing information from WoRMS, but it doesn't impact anything functional at this point."
   ]
  },
  {
   "cell_type": "code",
   "execution_count": 48,
   "metadata": {
    "collapsed": false
   },
   "outputs": [],
   "source": [
    "def getTIRCache(itisId,speciesName):\n",
    "    sqlITISCommonNameSearch = \"SELECT subjectid, property, value FROM tircache \\\n",
    "        WHERE subjectid = '\"+itisId+\"' OR subjectid = '\"+speciesName+\"'\"\n",
    "    urlITISCommonNameSearch = gc2BaseSQLAPIURL+\"?q=\"+sqlITISCommonNameSearch\n",
    "    itisCommonNames = requests.get(urlITISCommonNameSearch).json()\n",
    "    print (\"Information about the species from the Taxonomic Information Registry\")\n",
    "    display (itisCommonNames)"
   ]
  },
  {
   "cell_type": "markdown",
   "metadata": {},
   "source": [
    "# Species Search\n",
    "Use this widget to fire off the functions needed to pull information for a given species."
   ]
  },
  {
   "cell_type": "code",
   "execution_count": 49,
   "metadata": {
    "collapsed": false,
    "scrolled": true
   },
   "outputs": [
    {
     "name": "stdout",
     "output_type": "stream",
     "text": [
      "SGCN state results by year for Accipiter gentilis\n"
     ]
    },
    {
     "data": {
      "text/plain": [
       "{'_execution_time': 0.111,\n",
       " 'auth_check': {'auth_level': 'Write',\n",
       "  'checked_relations': ['sgcn'],\n",
       "  'session': None,\n",
       "  'success': True},\n",
       " 'features': [{'properties': {'sgcnyear': 2005,\n",
       "    'state': 'Alaska',\n",
       "    'taxonomicauthorityid_accepted': 'http://services.itis.gov/?q=tsn:175300'},\n",
       "   'type': 'Feature'},\n",
       "  {'properties': {'sgcnyear': 2005,\n",
       "    'state': 'California',\n",
       "    'taxonomicauthorityid_accepted': 'http://services.itis.gov/?q=tsn:175300'},\n",
       "   'type': 'Feature'},\n",
       "  {'properties': {'sgcnyear': 2005,\n",
       "    'state': 'Colorado',\n",
       "    'taxonomicauthorityid_accepted': 'http://services.itis.gov/?q=tsn:175300'},\n",
       "   'type': 'Feature'},\n",
       "  {'properties': {'sgcnyear': 2005,\n",
       "    'state': 'Connecticut',\n",
       "    'taxonomicauthorityid_accepted': 'http://services.itis.gov/?q=tsn:175300'},\n",
       "   'type': 'Feature'},\n",
       "  {'properties': {'sgcnyear': 2005,\n",
       "    'state': 'Maryland',\n",
       "    'taxonomicauthorityid_accepted': 'http://services.itis.gov/?q=tsn:175300'},\n",
       "   'type': 'Feature'},\n",
       "  {'properties': {'sgcnyear': 2005,\n",
       "    'state': 'Michigan',\n",
       "    'taxonomicauthorityid_accepted': 'http://services.itis.gov/?q=tsn:175300'},\n",
       "   'type': 'Feature'},\n",
       "  {'properties': {'sgcnyear': 2005,\n",
       "    'state': 'Minnesota',\n",
       "    'taxonomicauthorityid_accepted': 'http://services.itis.gov/?q=tsn:175300'},\n",
       "   'type': 'Feature'},\n",
       "  {'properties': {'sgcnyear': 2005,\n",
       "    'state': 'Montana',\n",
       "    'taxonomicauthorityid_accepted': 'http://services.itis.gov/?q=tsn:175300'},\n",
       "   'type': 'Feature'},\n",
       "  {'properties': {'sgcnyear': 2005,\n",
       "    'state': 'Nevada',\n",
       "    'taxonomicauthorityid_accepted': 'http://services.itis.gov/?q=tsn:175300'},\n",
       "   'type': 'Feature'},\n",
       "  {'properties': {'sgcnyear': 2005,\n",
       "    'state': 'New Hampshire',\n",
       "    'taxonomicauthorityid_accepted': 'http://services.itis.gov/?q=tsn:175300'},\n",
       "   'type': 'Feature'},\n",
       "  {'properties': {'sgcnyear': 2005,\n",
       "    'state': 'New Jersey',\n",
       "    'taxonomicauthorityid_accepted': 'http://services.itis.gov/?q=tsn:175300'},\n",
       "   'type': 'Feature'},\n",
       "  {'properties': {'sgcnyear': 2005,\n",
       "    'state': 'New Mexico',\n",
       "    'taxonomicauthorityid_accepted': 'http://services.itis.gov/?q=tsn:175300'},\n",
       "   'type': 'Feature'},\n",
       "  {'properties': {'sgcnyear': 2005,\n",
       "    'state': 'New York',\n",
       "    'taxonomicauthorityid_accepted': 'http://services.itis.gov/?q=tsn:175300'},\n",
       "   'type': 'Feature'},\n",
       "  {'properties': {'sgcnyear': 2005,\n",
       "    'state': 'Oregon',\n",
       "    'taxonomicauthorityid_accepted': 'http://services.itis.gov/?q=tsn:175300'},\n",
       "   'type': 'Feature'},\n",
       "  {'properties': {'sgcnyear': 2005,\n",
       "    'state': 'Pennsylvania',\n",
       "    'taxonomicauthorityid_accepted': 'http://services.itis.gov/?q=tsn:175300'},\n",
       "   'type': 'Feature'},\n",
       "  {'properties': {'sgcnyear': 2005,\n",
       "    'state': 'Rhode Island',\n",
       "    'taxonomicauthorityid_accepted': 'http://services.itis.gov/?q=tsn:175300'},\n",
       "   'type': 'Feature'},\n",
       "  {'properties': {'sgcnyear': 2005,\n",
       "    'state': 'South Dakota',\n",
       "    'taxonomicauthorityid_accepted': 'http://services.itis.gov/?q=tsn:175300'},\n",
       "   'type': 'Feature'},\n",
       "  {'properties': {'sgcnyear': 2005,\n",
       "    'state': 'Utah',\n",
       "    'taxonomicauthorityid_accepted': 'http://services.itis.gov/?q=tsn:175300'},\n",
       "   'type': 'Feature'},\n",
       "  {'properties': {'sgcnyear': 2005,\n",
       "    'state': 'Vermont',\n",
       "    'taxonomicauthorityid_accepted': 'http://services.itis.gov/?q=tsn:175300'},\n",
       "   'type': 'Feature'},\n",
       "  {'properties': {'sgcnyear': 2005,\n",
       "    'state': 'Washington',\n",
       "    'taxonomicauthorityid_accepted': 'http://services.itis.gov/?q=tsn:175300'},\n",
       "   'type': 'Feature'},\n",
       "  {'properties': {'sgcnyear': 2005,\n",
       "    'state': 'West Virginia',\n",
       "    'taxonomicauthorityid_accepted': 'http://services.itis.gov/?q=tsn:175300'},\n",
       "   'type': 'Feature'},\n",
       "  {'properties': {'sgcnyear': 2005,\n",
       "    'state': 'Wisconsin',\n",
       "    'taxonomicauthorityid_accepted': 'http://services.itis.gov/?q=tsn:175300'},\n",
       "   'type': 'Feature'},\n",
       "  {'properties': {'sgcnyear': 2005,\n",
       "    'state': 'Wyoming',\n",
       "    'taxonomicauthorityid_accepted': 'http://services.itis.gov/?q=tsn:175300'},\n",
       "   'type': 'Feature'},\n",
       "  {'properties': {'sgcnyear': 2015,\n",
       "    'state': 'Colorado',\n",
       "    'taxonomicauthorityid_accepted': 'http://services.itis.gov/?q=tsn:175300'},\n",
       "   'type': 'Feature'},\n",
       "  {'properties': {'sgcnyear': 2015,\n",
       "    'state': 'Maryland',\n",
       "    'taxonomicauthorityid_accepted': 'http://services.itis.gov/?q=tsn:175300'},\n",
       "   'type': 'Feature'},\n",
       "  {'properties': {'sgcnyear': 2015,\n",
       "    'state': 'Massachusetts',\n",
       "    'taxonomicauthorityid_accepted': 'http://services.itis.gov/?q=tsn:175300'},\n",
       "   'type': 'Feature'},\n",
       "  {'properties': {'sgcnyear': 2015,\n",
       "    'state': 'Minnesota',\n",
       "    'taxonomicauthorityid_accepted': 'http://services.itis.gov/?q=tsn:175300'},\n",
       "   'type': 'Feature'},\n",
       "  {'properties': {'sgcnyear': 2015,\n",
       "    'state': 'Nevada',\n",
       "    'taxonomicauthorityid_accepted': 'http://services.itis.gov/?q=tsn:175300'},\n",
       "   'type': 'Feature'},\n",
       "  {'properties': {'sgcnyear': 2015,\n",
       "    'state': 'New York',\n",
       "    'taxonomicauthorityid_accepted': 'http://services.itis.gov/?q=tsn:175300'},\n",
       "   'type': 'Feature'},\n",
       "  {'properties': {'sgcnyear': 2015,\n",
       "    'state': 'Pennsylvania',\n",
       "    'taxonomicauthorityid_accepted': 'http://services.itis.gov/?q=tsn:175300'},\n",
       "   'type': 'Feature'},\n",
       "  {'properties': {'sgcnyear': 2015,\n",
       "    'state': 'South Dakota',\n",
       "    'taxonomicauthorityid_accepted': 'http://services.itis.gov/?q=tsn:175300'},\n",
       "   'type': 'Feature'},\n",
       "  {'properties': {'sgcnyear': 2015,\n",
       "    'state': 'Vermont',\n",
       "    'taxonomicauthorityid_accepted': 'http://services.itis.gov/?q=tsn:175300'},\n",
       "   'type': 'Feature'},\n",
       "  {'properties': {'sgcnyear': 2015,\n",
       "    'state': 'Wisconsin',\n",
       "    'taxonomicauthorityid_accepted': 'http://services.itis.gov/?q=tsn:175300'},\n",
       "   'type': 'Feature'},\n",
       "  {'properties': {'sgcnyear': 2015,\n",
       "    'state': 'Wyoming',\n",
       "    'taxonomicauthorityid_accepted': 'http://services.itis.gov/?q=tsn:175300'},\n",
       "   'type': 'Feature'}],\n",
       " 'forGrid': [{'dataIndex': 'state',\n",
       "   'header': 'state',\n",
       "   'type': 'character varying',\n",
       "   'typeObj': None},\n",
       "  {'dataIndex': 'sgcnyear',\n",
       "   'header': 'sgcnyear',\n",
       "   'type': 'integer',\n",
       "   'typeObj': None},\n",
       "  {'dataIndex': 'taxonomicauthorityid_accepted',\n",
       "   'header': 'taxonomicauthorityid_accepted',\n",
       "   'type': 'character varying',\n",
       "   'typeObj': None}],\n",
       " 'forStore': [{'name': 'state', 'type': 'character varying'},\n",
       "  {'name': 'sgcnyear', 'type': 'integer'},\n",
       "  {'name': 'taxonomicauthorityid_accepted', 'type': 'character varying'}],\n",
       " 'success': True,\n",
       " 'type': 'FeatureCollection'}"
      ]
     },
     "metadata": {},
     "output_type": "display_data"
    },
    {
     "name": "stdout",
     "output_type": "stream",
     "text": [
      "Information about the species from the Taxonomic Information Registry\n"
     ]
    },
    {
     "data": {
      "text/plain": [
       "{'_execution_time': 0.101,\n",
       " 'auth_check': {'auth_level': 'Write',\n",
       "  'checked_relations': ['tircache'],\n",
       "  'session': None,\n",
       "  'success': True},\n",
       " 'features': [],\n",
       " 'forGrid': [{'dataIndex': 'subjectid',\n",
       "   'header': 'subjectid',\n",
       "   'type': 'character varying',\n",
       "   'typeObj': None},\n",
       "  {'dataIndex': 'property',\n",
       "   'header': 'property',\n",
       "   'type': 'character varying',\n",
       "   'typeObj': None},\n",
       "  {'dataIndex': 'value',\n",
       "   'header': 'value',\n",
       "   'type': 'character varying',\n",
       "   'typeObj': None}],\n",
       " 'forStore': [{'name': 'subjectid', 'type': 'character varying'},\n",
       "  {'name': 'property', 'type': 'character varying'},\n",
       "  {'name': 'value', 'type': 'character varying'}],\n",
       " 'success': True,\n",
       " 'type': 'FeatureCollection'}"
      ]
     },
     "metadata": {},
     "output_type": "display_data"
    },
    {
     "name": "stdout",
     "output_type": "stream",
     "text": [
      "Query result for states not yet reporting\n"
     ]
    },
    {
     "data": {
      "text/plain": [
       "{'_execution_time': 0.119,\n",
       " 'auth_check': {'auth_level': 'Write',\n",
       "  'checked_relations': ['sgcn'],\n",
       "  'session': None,\n",
       "  'success': True},\n",
       " 'features': [{'properties': {'state': 'Alabama'}, 'type': 'Feature'},\n",
       "  {'properties': {'state': 'Tennessee'}, 'type': 'Feature'},\n",
       "  {'properties': {'state': 'Georgia'}, 'type': 'Feature'},\n",
       "  {'properties': {'state': 'Louisiana'}, 'type': 'Feature'},\n",
       "  {'properties': {'state': 'California'}, 'type': 'Feature'},\n",
       "  {'properties': {'state': 'New Mexico'}, 'type': 'Feature'},\n",
       "  {'properties': {'state': 'New Hampshire'}, 'type': 'Feature'},\n",
       "  {'properties': {'state': 'American Samoa'}, 'type': 'Feature'},\n",
       "  {'properties': {'state': 'Hawaii'}, 'type': 'Feature'},\n",
       "  {'properties': {'state': 'Connecticut'}, 'type': 'Feature'},\n",
       "  {'properties': {'state': 'Alaska'}, 'type': 'Feature'},\n",
       "  {'properties': {'state': 'Oklahoma'}, 'type': 'Feature'},\n",
       "  {'properties': {'state': 'Idaho'}, 'type': 'Feature'},\n",
       "  {'properties': {'state': 'West Virginia'}, 'type': 'Feature'},\n",
       "  {'properties': {'state': 'Delaware'}, 'type': 'Feature'},\n",
       "  {'properties': {'state': 'Guam'}, 'type': 'Feature'},\n",
       "  {'properties': {'state': 'U.S. Virgin Islands'}, 'type': 'Feature'},\n",
       "  {'properties': {'state': 'Illinois'}, 'type': 'Feature'},\n",
       "  {'properties': {'state': 'District of Columbia'}, 'type': 'Feature'},\n",
       "  {'properties': {'state': 'Northern Mariana Islands'}, 'type': 'Feature'},\n",
       "  {'properties': {'state': 'Rhode Island'}, 'type': 'Feature'},\n",
       "  {'properties': {'state': 'New Jersey'}, 'type': 'Feature'},\n",
       "  {'properties': {'state': 'Puerto Rico'}, 'type': 'Feature'},\n",
       "  {'properties': {'state': 'Michigan'}, 'type': 'Feature'}],\n",
       " 'forGrid': [{'dataIndex': 'state',\n",
       "   'header': 'state',\n",
       "   'type': 'character varying',\n",
       "   'typeObj': None}],\n",
       " 'forStore': [{'name': 'state', 'type': 'character varying'}],\n",
       " 'success': True,\n",
       " 'type': 'FeatureCollection'}"
      ]
     },
     "metadata": {},
     "output_type": "display_data"
    }
   ],
   "source": [
    "speciesName = widgets.Text(description=\"Species Name\")\n",
    "display(speciesName)\n",
    "\n",
    "speciesName.on_submit(searchName)"
   ]
  },
  {
   "cell_type": "code",
   "execution_count": null,
   "metadata": {
    "collapsed": true
   },
   "outputs": [],
   "source": []
  }
 ],
 "metadata": {
  "kernelspec": {
   "display_name": "Python 3",
   "language": "python",
   "name": "python3"
  },
  "language_info": {
   "codemirror_mode": {
    "name": "ipython",
    "version": 3
   },
   "file_extension": ".py",
   "mimetype": "text/x-python",
   "name": "python",
   "nbconvert_exporter": "python",
   "pygments_lexer": "ipython3",
   "version": "3.5.3"
  }
 },
 "nbformat": 4,
 "nbformat_minor": 0
}
