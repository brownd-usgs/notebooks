{
 "cells": [
  {
   "cell_type": "markdown",
   "metadata": {},
   "source": [
    "# SGCN species search\n",
    "\n",
    "This notebook provides an idea for how the new SWAP/SSGCN app can execute a search for species. It uses a view created in the GC2-based database that pulls together unique species references (both those aligned with taxonomic authorities and not) and leverages the Elasticsearch index for the query."
   ]
  },
  {
   "cell_type": "code",
   "execution_count": 2,
   "metadata": {
    "collapsed": true
   },
   "outputs": [],
   "source": [
    "import requests\n",
    "from ipywidgets import interactive\n",
    "import ipywidgets as widgets\n",
    "from IPython.display import display"
   ]
  },
  {
   "cell_type": "markdown",
   "metadata": {},
   "source": [
    "The function here searches the Elasticsearch index on the sgcn_uniquespecies view. It uses the multi_match method and includes the best available final scientific name, the originally submitted scientific name string, and the submitted common name string as search targets. In the final application, this method would be employed from the search form on https://www1.usgs.gov/csas/swap/species_view.html. The result would bring up the query for a particular species."
   ]
  },
  {
   "cell_type": "code",
   "execution_count": 3,
   "metadata": {
    "collapsed": false
   },
   "outputs": [
    {
     "name": "stdout",
     "output_type": "stream",
     "text": [
      "Buteo nitidus - http://services.itis.gov/?q=tsn:175378\n",
      "Buteo regalis - http://services.itis.gov/?q=tsn:175377\n",
      "Accipiter cooperii - http://services.itis.gov/?q=tsn:175309\n",
      "Buteo swainsoni - http://services.itis.gov/?q=tsn:175367\n",
      "Parabuteo unicinctus - http://services.itis.gov/?q=tsn:175397\n",
      "Buteo lagopus - http://services.itis.gov/?q=tsn:175373\n",
      "Buteo platypterus - http://services.itis.gov/?q=tsn:175365\n",
      "Accipiter striatus venator - http://services.itis.gov/?q=tsn:824334\n",
      "Buteo jamaicensis - http://services.itis.gov/?q=tsn:175350\n",
      "Buteo lineatus - http://services.itis.gov/?q=tsn:175359\n"
     ]
    }
   ],
   "source": [
    "# setup a search box for convenience in testing this idea\n",
    "searchBox = widgets.Text(description='Search')\n",
    "\n",
    "def searchName(searchText):\n",
    "    gc2SearchURL = \"https://gc2.mapcentia.com/api/v1/elasticsearch/search/bcb/public/sgcn_uniquespecies?q={%22query%22:{%22multi_match%22:{%22query%22:%22\"+searchText+\"%22,%22fields%22:[%22properties.scientificname_display%22,%22properties.scientificname_submitted%22,%22properties.commonname_submitted%22]}}}\"\n",
    "    gc2SearchResults = requests.get(gc2SearchURL).json()\n",
    "    \n",
    "    for hit in gc2SearchResults['hits']['hits']:\n",
    "        print (hit['_source']['properties']['scientificname_display']+\" - \"+hit['_source']['properties']['taxonomicauthorityid_accepted'])\n",
    "\n",
    "getSpeciesSearch = widgets.interactive(searchName, searchText=searchBox)\n",
    "display(getSpeciesSearch)"
   ]
  },
  {
   "cell_type": "code",
   "execution_count": null,
   "metadata": {
    "collapsed": true
   },
   "outputs": [],
   "source": []
  }
 ],
 "metadata": {
  "kernelspec": {
   "display_name": "Python 3",
   "language": "python",
   "name": "python3"
  },
  "language_info": {
   "codemirror_mode": {
    "name": "ipython",
    "version": 3
   },
   "file_extension": ".py",
   "mimetype": "text/x-python",
   "name": "python",
   "nbconvert_exporter": "python",
   "pygments_lexer": "ipython3",
   "version": "3.5.3"
  }
 },
 "nbformat": 4,
 "nbformat_minor": 0
}
