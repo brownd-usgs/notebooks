{
 "cells": [
  {
   "cell_type": "markdown",
   "metadata": {},
   "source": [
    "# Get NatureServe global ID and cache it in tircache"
   ]
  },
  {
   "cell_type": "markdown",
   "metadata": {},
   "source": [
    "This notebook builds on previous tircache notebooks. This one uses the same basic methods to get information from the NatureServe web services and caching to the tircache."
   ]
  },
  {
   "cell_type": "code",
   "execution_count": 1,
   "metadata": {
    "collapsed": false
   },
   "outputs": [],
   "source": [
    "import requests,datetime,configparser\n",
    "from lxml import etree\n",
    "from io import StringIO, BytesIO"
   ]
  },
  {
   "cell_type": "code",
   "execution_count": 2,
   "metadata": {
    "collapsed": true
   },
   "outputs": [],
   "source": [
    "# Set defaults\n",
    "targetData = \"sgcn\"\n",
    "dt = datetime.datetime.utcnow().isoformat()\n",
    "natureServeServicesURL = \"https://services.natureserve.org\"\n",
    "natureServeSpeciesQueryBaseURL = natureServeServicesURL+\"/idd/rest/v1/globalSpecies/list/nameSearch?name=\""
   ]
  },
  {
   "cell_type": "code",
   "execution_count": 3,
   "metadata": {
    "collapsed": false
   },
   "outputs": [],
   "source": [
    "# Get API keys and any other config details from a file that is external to the code.\n",
    "config = configparser.RawConfigParser()\n",
    "config.read_file(open(r'/Users/sky/Documents/configs/stuff.py'))\n",
    "\n",
    "# Build base URL with API key using input the external config.\n",
    "def getBaseURL():\n",
    "    gc2APIKey = config.get('apiKeys','apiKey_GC2_BCB').replace('\"','')\n",
    "    apiBaseURL = \"https://gc2.mapcentia.com/api/v1/sql/bcb?key=\"+gc2APIKey\n",
    "    return apiBaseURL"
   ]
  },
  {
   "cell_type": "code",
   "execution_count": 4,
   "metadata": {
    "collapsed": true
   },
   "outputs": [],
   "source": [
    "# Basic function to insert subject ID, property, and value into tircache\n",
    "def insertTupleInTirCache(subjectid,prop,value):\n",
    "    # Build query string\n",
    "    insertSQL = \"INSERT INTO tircache (subjectid,property,value) VALUES ('\"+subjectid+\"','\"+prop+\"','\"+value+\"')\"\n",
    "    # Execute query\n",
    "    r = requests.get(getBaseURL()+\"&q=\"+insertSQL)"
   ]
  },
  {
   "cell_type": "code",
   "execution_count": 5,
   "metadata": {
    "collapsed": true
   },
   "outputs": [],
   "source": [
    "# Retrieve target data (species name)\n",
    "def getSubjectIDs(targetData):\n",
    "    if targetData == 'sgcn':\n",
    "        # Build query string to retrieve data\n",
    "        targetDataSQL = \"SELECT DISTINCT sgcn.scientificname_accepted AS subjectid \\\n",
    "            FROM sgcn \\\n",
    "            WHERE sgcn.scientificname_accepted NOT IN \\\n",
    "            (SELECT tircache.subjectid \\\n",
    "                FROM tircache \\\n",
    "                WHERE tircache.property LIKE 'NatureServe:RecordCheck%') \\\n",
    "            LIMIT 1000\"\n",
    "        # Get Data\n",
    "        targetData = requests.get(getBaseURL()+\"&q=\"+targetDataSQL).json()\n",
    "        return targetData"
   ]
  },
  {
   "cell_type": "code",
   "execution_count": 6,
   "metadata": {
    "collapsed": false
   },
   "outputs": [],
   "source": [
    "# Loop through the target data, extract Subject IDs, retrieve data from service, and insert results in tircache\n",
    "def getNatureServeElementIDFromSpeciesName(targetData):\n",
    "    for feature in targetData['features']:\n",
    "        # Set the subjectid for query and recording\n",
    "        strSubjectId = feature['properties']['subjectid']\n",
    "        \n",
    "        # Set the URL path to get the common names from TSN via one of the ITIS JSON service end points, get the response JSON, and pull out the common names structure\n",
    "        natureServeQueryURL = natureServeSpeciesQueryBaseURL+strSubjectId\n",
    "        natureServeData = requests.get(natureServeQueryURL)\n",
    "        \n",
    "        if natureServeData.text.find('<speciesSearchResultList>\\r\\n</speciesSearchResultList>') > 0:\n",
    "            insertTupleInTirCache(strSubjectId,\"NatureServe:RecordCheck:NegativeResponse\",dt)\n",
    "        else:\n",
    "            insertTupleInTirCache(strSubjectId,\"NatureServe:RecordCheck:PositiveResponse\",dt)\n",
    "            rawXML = natureServeData.text.replace('<?xml version=\"1.0\" encoding=\"utf-8\"?>\\r\\n\\r\\n', '')\n",
    "            rawXML = rawXML.replace(' \\r\\n    xsi:schemaLocation=\"http://services.natureserve.org/docs/schemas/biodiversityDataFlow/1 http://services.natureserve.org/docs/schemas/biodiversityDataFlow/1/\" \\r\\n    xmlns=\"http://services.natureserve.org/docs/schemas/biodiversityDataFlow/1\" \\r\\n    xmlns:xsi=\"http://www.w3.org/2001/XMLSchema-instance\" \\r\\n    schemaVersion=\"1.1\"', '')\n",
    "            f = StringIO(rawXML)\n",
    "            tree = etree.parse(f)\n",
    "            insertTupleInTirCache(strSubjectId,\"NatureServe:globalSpeciesUid\",tree.xpath('/speciesSearchReport/speciesSearchResultList/speciesSearchResult/globalSpeciesUid')[0].text)"
   ]
  },
  {
   "cell_type": "code",
   "execution_count": null,
   "metadata": {
    "collapsed": false
   },
   "outputs": [],
   "source": [
    "# Run the process by firing functions\n",
    "getNatureServeElementIDFromSpeciesName(getSubjectIDs(\"sgcn\"))"
   ]
  },
  {
   "cell_type": "code",
   "execution_count": null,
   "metadata": {
    "collapsed": true
   },
   "outputs": [],
   "source": []
  }
 ],
 "metadata": {
  "anaconda-cloud": {},
  "kernelspec": {
   "display_name": "Python 3",
   "language": "python",
   "name": "python3"
  },
  "language_info": {
   "codemirror_mode": {
    "name": "ipython",
    "version": 3
   },
   "file_extension": ".py",
   "mimetype": "text/x-python",
   "name": "python",
   "nbconvert_exporter": "python",
   "pygments_lexer": "ipython3",
   "version": "3.5.3"
  }
 },
 "nbformat": 4,
 "nbformat_minor": 0
}
