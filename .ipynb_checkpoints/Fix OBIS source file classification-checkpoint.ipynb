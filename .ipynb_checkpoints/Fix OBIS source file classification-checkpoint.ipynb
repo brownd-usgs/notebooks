{
 "cells": [
  {
   "cell_type": "markdown",
   "metadata": {},
   "source": [
    "# Script to change file classification scheme on OBIS-USA sources\n",
    "This script uses pysb to loop through the collection of [OBIS-USA source data](https://www.sciencebase.gov/catalog/item/579b64c6e4b0589fa1c98118) and change the title on final source files to a convention we are now using that will include the following to accommodate flagging EventCore data:\n",
    "\n",
    "* DarwinCore:Occurrence (species occurrence (identification) information)\n",
    "* DarwinCore:Event (information about the observation/sampling event)\n",
    "* DarwinCore:measurementOrFact (measurements or facts recorded about the event and/or the species occurrence)\n",
    "\n",
    "I'm keeping this around because it serves as a reasonable example of looping through to modify ScienceBase items."
   ]
  },
  {
   "cell_type": "code",
   "execution_count": 79,
   "metadata": {
    "collapsed": false,
    "scrolled": true
   },
   "outputs": [],
   "source": [
    "import pysb\n",
    "from IPython.display import display"
   ]
  },
  {
   "cell_type": "code",
   "execution_count": 80,
   "metadata": {
    "collapsed": false
   },
   "outputs": [
    {
     "name": "stdout",
     "output_type": "stream",
     "text": [
      "Username:  sbristol@usgs.gov\n",
      "········\n"
     ]
    },
    {
     "data": {
      "text/plain": [
       "<pysb.SbSession.SbSession at 0x10aceedd8>"
      ]
     },
     "execution_count": 80,
     "metadata": {},
     "output_type": "execute_result"
    }
   ],
   "source": [
    "# Initiate the ScienceBase session and login\n",
    "sb = pysb.SbSession()\n",
    "\n",
    "username = input(\"Username:  \")\n",
    "sb.loginc(str(username))"
   ]
  },
  {
   "cell_type": "code",
   "execution_count": 81,
   "metadata": {
    "collapsed": false
   },
   "outputs": [],
   "source": [
    "# Get all the OBIS-USA source items\n",
    "obisSources = sb.get_child_ids('579b64c6e4b0589fa1c98118')\n",
    "\n",
    "# Loop through the source data items\n",
    "for sourceid in obisSources:\n",
    "    doThisOne = 0\n",
    "    sourceitem = sb.get_item(sourceid)\n",
    "    newFiles = []\n",
    "\n",
    "    # Check all the files in the source for the original text we want to replace\n",
    "    for file in sourceitem['files']:\n",
    "        if file['title'] == 'Final Processed Source':\n",
    "            file['title'] = 'DarwinCore:Occurrence'\n",
    "            newFiles.append(file.copy())\n",
    "            doThisOne = 1\n",
    "        else:\n",
    "            newFiles.append(file.copy())\n",
    "\n",
    "    # If we found one of the files in the source and updated its title, update the SB item with the new information\n",
    "    # Note: this is only going to work once\n",
    "    if doThisOne == 1:\n",
    "        thisItem = dict()\n",
    "        thisItem['id'] = sourceid\n",
    "        thisItem['files'] = newFiles\n",
    "        display(thisItem)\n",
    "        sb.update_item(thisItem)"
   ]
  },
  {
   "cell_type": "code",
   "execution_count": null,
   "metadata": {
    "collapsed": true
   },
   "outputs": [],
   "source": []
  }
 ],
 "metadata": {
  "kernelspec": {
   "display_name": "Python 3",
   "language": "python",
   "name": "python3"
  },
  "language_info": {
   "codemirror_mode": {
    "name": "ipython",
    "version": 3
   },
   "file_extension": ".py",
   "mimetype": "text/x-python",
   "name": "python",
   "nbconvert_exporter": "python",
   "pygments_lexer": "ipython3",
   "version": "3.5.3"
  }
 },
 "nbformat": 4,
 "nbformat_minor": 0
}
