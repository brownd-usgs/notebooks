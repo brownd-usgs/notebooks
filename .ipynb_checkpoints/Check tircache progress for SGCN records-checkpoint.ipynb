{
 "cells": [
  {
   "cell_type": "code",
   "execution_count": 28,
   "metadata": {
    "collapsed": true
   },
   "outputs": [],
   "source": [
    "import requests\n",
    "from IPython.display import display\n",
    "\n",
    "apiBaseURL = \"https://gc2.mapcentia.com/api/v1/sql/bcb\""
   ]
  },
  {
   "cell_type": "code",
   "execution_count": 29,
   "metadata": {
    "collapsed": false
   },
   "outputs": [
    {
     "name": "stdout",
     "output_type": "stream",
     "text": [
      "ITIS Common Names Found: 6159\n",
      "ITIS Common Names Not Found: 2864\n",
      "ITIS Common Names Not Checked: 4923\n"
     ]
    }
   ],
   "source": [
    "sqlCountITISFound = \"SELECT count(*) FROM tircache WHERE property = 'ITIS:RecordCheck:CommonName:PositiveResponse'\"\n",
    "sqlCountITISNotFound = \"SELECT count(*) FROM tircache WHERE property = 'ITIS:RecordCheck:CommonName:NegativeResponse'\"\n",
    "sqlCountITISNotChecked = \"SELECT count(*) \\\n",
    "    FROM (SELECT DISTINCT sgcn.taxonomicauthorityid_accepted \\\n",
    "    FROM sgcn WHERE sgcn.taxonomicauthorityid_accepted LIKE '%itis%' \\\n",
    "    AND sgcn.taxonomicauthorityid_accepted NOT IN \\\n",
    "    (SELECT tircache.subjectid FROM tircache \\\n",
    "    WHERE tircache.subjectid LIKE '%itis%' AND tircache.property LIKE 'ITIS:RecordCheck%')) \\\n",
    "    AS temp\"\n",
    "\n",
    "countITISFound = requests.get(apiBaseURL+\"?q=\"+sqlCountITISFound).json()\n",
    "for feature in countITISFound['features']:\n",
    "    print (\"ITIS Common Names Found: \"+str(feature['properties']['count']))\n",
    "countITISNotFound = requests.get(apiBaseURL+\"?q=\"+sqlCountITISNotFound).json()\n",
    "for feature in countITISNotFound['features']:\n",
    "    print (\"ITIS Common Names Not Found: \"+str(feature['properties']['count']))\n",
    "countITISNotChecked = requests.get(apiBaseURL+\"?q=\"+sqlCountITISNotChecked).json()\n",
    "for feature in countITISNotChecked['features']:\n",
    "    print (\"ITIS Common Names Not Checked: \"+str(feature['properties']['count']))"
   ]
  },
  {
   "cell_type": "code",
   "execution_count": 30,
   "metadata": {
    "collapsed": false,
    "scrolled": true
   },
   "outputs": [
    {
     "name": "stdout",
     "output_type": "stream",
     "text": [
      "TESS Found: 2743\n",
      "TESS Not Found: 11204\n",
      "TESS Not Checked: 0\n"
     ]
    }
   ],
   "source": [
    "sqlCountTESSFound = \"SELECT count(*) FROM tircache WHERE property = 'TESS:RecordCheck:PositiveResponse'\"\n",
    "sqlCountTESSNotFound = \"SELECT count(*) FROM tircache WHERE property = 'TESS:RecordCheck:NegativeResponse'\"\n",
    "sqlCountTESSNotChecked = \"SELECT count(*) \\\n",
    "    FROM (SELECT DISTINCT sgcn.taxonomicauthorityid_accepted \\\n",
    "    FROM sgcn WHERE sgcn.taxonomicauthorityid_accepted LIKE '%itis%' \\\n",
    "    AND sgcn.taxonomicauthorityid_accepted NOT IN \\\n",
    "    (SELECT tircache.subjectid FROM tircache \\\n",
    "    WHERE tircache.subjectid LIKE '%itis%' AND tircache.property LIKE 'TESS:RecordCheck%')) \\\n",
    "    AS temp\"\n",
    "\n",
    "countTESSFound = requests.get(apiBaseURL+\"?q=\"+sqlCountTESSFound).json()\n",
    "for feature in countTESSFound['features']:\n",
    "    print (\"TESS Found: \"+str(feature['properties']['count']))\n",
    "countTESSNotFound = requests.get(apiBaseURL+\"?q=\"+sqlCountTESSNotFound).json()\n",
    "for feature in countTESSNotFound['features']:\n",
    "    print (\"TESS Not Found: \"+str(feature['properties']['count']))\n",
    "countTESSNotChecked = requests.get(apiBaseURL+\"?q=\"+sqlCountTESSNotChecked).json()\n",
    "for feature in countTESSNotChecked['features']:\n",
    "    print (\"TESS Not Checked: \"+str(feature['properties']['count']))"
   ]
  },
  {
   "cell_type": "code",
   "execution_count": null,
   "metadata": {
    "collapsed": false
   },
   "outputs": [
    {
     "name": "stdout",
     "output_type": "stream",
     "text": [
      "NatureServe Taxa Found: 4193\n"
     ]
    }
   ],
   "source": [
    "sqlNatureServeTaxaFound = \"SELECT count(*) FROM tircache WHERE property ='NatureServe:RecordCheck:PositiveResponse'\"\n",
    "sqlNatureServeTaxaNotFound = \"SELECT count(*) FROM tircache WHERE property ='NatureServe:RecordCheck:NegativeResponse'\"\n",
    "sqlNatureServeTaxaNotChecked = \"SELECT count(*) \\\n",
    "    FROM (SELECT DISTINCT sgcn.scientificname_accepted \\\n",
    "        FROM sgcn WHERE sgcn.scientificname_accepted NOT IN \\\n",
    "            (SELECT tircache.subjectid \\\n",
    "            FROM tircache \\\n",
    "            WHERE tircache.property LIKE 'NatureServe:RecordCheck%')) \\\n",
    "        AS temp\"\n",
    "sqlNatureServeInfoCached = \"SELECT count(*) FROM tircache WHERE property ='NatureServe:RetrieveComprehensive:PositiveResponse'\"\n",
    "\n",
    "countNatureServeFound = requests.get(apiBaseURL+\"?q=\"+sqlNatureServeTaxaFound).json()\n",
    "for feature in countNatureServeFound['features']:\n",
    "    numNatureServeTaxaFound = feature['properties']['count']\n",
    "    print (\"NatureServe Taxa Found: \"+str(numNatureServeTaxaFound))\n",
    "countNatureServeNotFound = requests.get(apiBaseURL+\"?q=\"+sqlNatureServeTaxaNotFound).json()\n",
    "for feature in countNatureServeNotFound['features']:\n",
    "    print (\"NatureServe Taxa Not Found: \"+str(feature['properties']['count']))\n",
    "countNatureServeNotChecked = requests.get(apiBaseURL+\"?q=\"+sqlNatureServeTaxaNotChecked).json()\n",
    "for feature in countNatureServeNotChecked['features']:\n",
    "    print (\"NatureServe Taxa Not Checked: \"+str(feature['properties']['count']))\n",
    "countNatureServeInfoCached = requests.get(apiBaseURL+\"?q=\"+sqlNatureServeInfoCached).json()\n",
    "for feature in countNatureServeInfoCached['features']:\n",
    "    numNatureServeInfoCached = feature['properties']['count']\n",
    "    print (\"NatureServe Info Cached: \"+str(numNatureServeInfoCached))\n",
    "numNatureServeNotCached = numNatureServeTaxaFound - numNatureServeInfoCached\n",
    "print (\"NatureServe Not Cached: \"+str(numNatureServeNotCached))"
   ]
  },
  {
   "cell_type": "code",
   "execution_count": null,
   "metadata": {
    "collapsed": true
   },
   "outputs": [],
   "source": []
  }
 ],
 "metadata": {
  "kernelspec": {
   "display_name": "Python 3",
   "language": "python",
   "name": "python3"
  },
  "language_info": {
   "codemirror_mode": {
    "name": "ipython",
    "version": 3
   },
   "file_extension": ".py",
   "mimetype": "text/x-python",
   "name": "python",
   "nbconvert_exporter": "python",
   "pygments_lexer": "ipython3",
   "version": "3.5.3"
  }
 },
 "nbformat": 4,
 "nbformat_minor": 0
}
