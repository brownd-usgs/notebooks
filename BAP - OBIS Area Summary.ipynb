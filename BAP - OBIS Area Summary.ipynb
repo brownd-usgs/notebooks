{
 "cells": [
  {
   "cell_type": "markdown",
   "metadata": {},
   "source": [
    "# BAP for showing summary information for an area from OBIS\n",
    "\n",
    "This is a potential new Biogeographic Analysis Package (for the National Biogeographic Map and other uses) that would respond to a selection of one of the geographic areas of interest summarized in in the Ocean Biogeographic Information System. Summary information is pretty simple, and I'll create some other notebooks that pull back more interesting information on species observations in the area.\n",
    "\n",
    "The geographic areas include EEZ zones, Ecologically and Biologically Significant Areas (EBSAs), and Marine Protected Areas. The data for these was originally pulled from the MarineRegions.org aggregation point with some work to make the geospatial data actually work. Eventually, all of this needs to be in the Spatial Feature Registry and rectified with other sources like PAD-US. For now, I used a service provided by Pieter Provoost to pull down data.\n",
    "\n",
    "http://iobis.org/geoserver/OBIS/ows?service=WFS&version=1.0.0&request=GetFeature&typeName=OBIS:areas&maxFeatures=9999&outputFormat=SHAPE-ZIP&format_options=CHARSET:UTF-8\n",
    "\n",
    "Note: I had to add the UTF-8 option after discovering that the text properties coming from this WFS (via Geoserver and PostGIS, I believe) were in a different encoding.\n",
    "\n",
    "I used GDAL (ogr2ogr) to extract just the properties I wanted for our purposes (the WFS contains high level point in time summaries for the areas that we are wanting to pull in real time from another service).\n",
    "\n",
    "`ogr2ogr -f GeoJSON -t_srs crs:84 obisareas.geojson areasPolygon.shp -sql \"SELECT gid AS areaid, name, country, type FROM areasPolygon\"`\n",
    "\n",
    "I did this to set the data up for import into the GC2 platform we are experimenting with, changing the gid to areaid from the original data since I needed to import this into another PostgreSQL database in GC2 (and it was horking on trying to deal with an existing gid property).\n",
    "\n",
    "The rest of the notebook shows a little bit of how we might interact with the geographic areas. We may or may not want to limit the available areas to those for the United States."
   ]
  },
  {
   "cell_type": "code",
   "execution_count": 28,
   "metadata": {
    "collapsed": true
   },
   "outputs": [],
   "source": [
    "import requests\n",
    "from IPython.display import display,HTML"
   ]
  },
  {
   "cell_type": "markdown",
   "metadata": {},
   "source": [
    "This next section goes out and gets data on specific areas from the Elasticsearch end point on our nascent first try at hosting the GC2 infrastructure on the cloud (we'll have to replace this because it is very transient). I pulled just the properties for now. You can execute the same query but leave off the fields:[] part to grab up the geometry. I'll play with that as well. In an NBM rendering of this BAP, we would want to show the area highlighted on the map.\n",
    "\n",
    "This query gets just US areas, but we would probably want to just include everything in our NBM - no reason not to unless we run into sensitivities about it being our \"National\" Biogeographic Map."
   ]
  },
  {
   "cell_type": "code",
   "execution_count": 32,
   "metadata": {
    "collapsed": false,
    "scrolled": false
   },
   "outputs": [
    {
     "data": {
      "text/plain": [
       "{'_shards': {'failed': 0, 'successful': 5, 'total': 5},\n",
       " 'hits': {'hits': [{'_id': '117',\n",
       "    '_index': 'bcb_public_obisareas',\n",
       "    '_score': 1.0,\n",
       "    '_type': 'obisareas',\n",
       "    'fields': {'properties.areaid': [249],\n",
       "     'properties.country': ['United States'],\n",
       "     'properties.name': ['United States: Puerto Rico and Virgin Islands of the United States'],\n",
       "     'properties.type': ['eez']}},\n",
       "   {'_id': '179',\n",
       "    '_index': 'bcb_public_obisareas',\n",
       "    '_score': 1.0,\n",
       "    '_type': 'obisareas',\n",
       "    'fields': {'properties.areaid': [250],\n",
       "     'properties.country': ['United States'],\n",
       "     'properties.name': ['United States: Wake Island'],\n",
       "     'properties.type': ['eez']}},\n",
       "   {'_id': '264',\n",
       "    '_index': 'bcb_public_obisareas',\n",
       "    '_score': 1.0,\n",
       "    '_type': 'obisareas',\n",
       "    'fields': {'properties.areaid': [247],\n",
       "     'properties.country': ['United States'],\n",
       "     'properties.name': ['United States: Northern Mariana Islands and Guam'],\n",
       "     'properties.type': ['eez']}},\n",
       "   {'_id': '428',\n",
       "    '_index': 'bcb_public_obisareas',\n",
       "    '_score': 1.0,\n",
       "    '_type': 'obisareas',\n",
       "    'fields': {'properties.areaid': [240],\n",
       "     'properties.country': ['United States'],\n",
       "     'properties.name': ['United States: American Samoa'],\n",
       "     'properties.type': ['eez']}},\n",
       "   {'_id': '152',\n",
       "    '_index': 'bcb_public_obisareas',\n",
       "    '_score': 1.0,\n",
       "    '_type': 'obisareas',\n",
       "    'fields': {'properties.areaid': [241],\n",
       "     'properties.country': ['United States'],\n",
       "     'properties.name': ['United States: Hawaii'],\n",
       "     'properties.type': ['eez']}},\n",
       "   {'_id': '171',\n",
       "    '_index': 'bcb_public_obisareas',\n",
       "    '_score': 1.0,\n",
       "    '_type': 'obisareas',\n",
       "    'fields': {'properties.areaid': [239],\n",
       "     'properties.country': ['United States'],\n",
       "     'properties.name': ['United States: Alaska: North Pacific'],\n",
       "     'properties.type': ['eez']}},\n",
       "   {'_id': '222',\n",
       "    '_index': 'bcb_public_obisareas',\n",
       "    '_score': 1.0,\n",
       "    '_type': 'obisareas',\n",
       "    'fields': {'properties.areaid': [243],\n",
       "     'properties.country': ['United States'],\n",
       "     'properties.name': ['United States: Jarvis Island'],\n",
       "     'properties.type': ['eez']}},\n",
       "   {'_id': '272',\n",
       "    '_index': 'bcb_public_obisareas',\n",
       "    '_score': 1.0,\n",
       "    '_type': 'obisareas',\n",
       "    'fields': {'properties.areaid': [242],\n",
       "     'properties.country': ['United States'],\n",
       "     'properties.name': ['United States: Howland Island and Baker Island'],\n",
       "     'properties.type': ['eez']}},\n",
       "   {'_id': '122',\n",
       "    '_index': 'bcb_public_obisareas',\n",
       "    '_score': 1.0,\n",
       "    '_type': 'obisareas',\n",
       "    'fields': {'properties.areaid': [284],\n",
       "     'properties.country': ['United States'],\n",
       "     'properties.name': ['United States: all'],\n",
       "     'properties.type': ['eez']}},\n",
       "   {'_id': '228',\n",
       "    '_index': 'bcb_public_obisareas',\n",
       "    '_score': 1.0,\n",
       "    '_type': 'obisareas',\n",
       "    'fields': {'properties.areaid': [248],\n",
       "     'properties.country': ['United States'],\n",
       "     'properties.name': ['United States: Palmyra Atoll'],\n",
       "     'properties.type': ['eez']}},\n",
       "   {'_id': '247',\n",
       "    '_index': 'bcb_public_obisareas',\n",
       "    '_score': 1.0,\n",
       "    '_type': 'obisareas',\n",
       "    'fields': {'properties.areaid': [246],\n",
       "     'properties.country': ['United States'],\n",
       "     'properties.name': ['United States: North Pacific'],\n",
       "     'properties.type': ['eez']}},\n",
       "   {'_id': '507',\n",
       "    '_index': 'bcb_public_obisareas',\n",
       "    '_score': 1.0,\n",
       "    '_type': 'obisareas',\n",
       "    'fields': {'properties.areaid': [244],\n",
       "     'properties.country': ['United States'],\n",
       "     'properties.name': ['United States: Johnston Atoll'],\n",
       "     'properties.type': ['eez']}},\n",
       "   {'_id': '84',\n",
       "    '_index': 'bcb_public_obisareas',\n",
       "    '_score': 1.0,\n",
       "    '_type': 'obisareas',\n",
       "    'fields': {'properties.areaid': [238],\n",
       "     'properties.country': ['United States'],\n",
       "     'properties.name': ['United States: Alaska: Arctic Ocean'],\n",
       "     'properties.type': ['eez']}},\n",
       "   {'_id': '387',\n",
       "    '_index': 'bcb_public_obisareas',\n",
       "    '_score': 1.0,\n",
       "    '_type': 'obisareas',\n",
       "    'fields': {'properties.areaid': [245],\n",
       "     'properties.country': ['United States'],\n",
       "     'properties.name': ['United States: North Atlantic'],\n",
       "     'properties.type': ['eez']}}],\n",
       "  'max_score': 1.0,\n",
       "  'total': 14},\n",
       " 'timed_out': False,\n",
       " 'took': 34}"
      ]
     },
     "metadata": {},
     "output_type": "display_data"
    }
   ],
   "source": [
    "# Something like this would get US areas for lookup\n",
    "# This goes against the test GC2 instance using the Elasticsearch API and brings back just the properties.\n",
    "# Still need to do a bunch of stuff to set up the Spatial Feature Registry for real.\n",
    "usAreas = requests.get('http://52.90.54.105/api/v1/elasticsearch/search/bcb/public/obisareas?q={%22fields%22:[%22properties.name%22,%22properties.country%22,%22properties.areaid%22,%22properties.type%22],%22query%22:{%22constant_score%22:{%22filter%22:{%22term%22:{%22country%22:%22United%20States%22}}}}}&size=100').json()\n",
    "display(usAreas)"
   ]
  },
  {
   "cell_type": "markdown",
   "metadata": {},
   "source": [
    "This next section loops through the returned areas and calls up the simplified backend service from iOBIS. The link on the area name at the top of each result goes to the iOBIS portal page for that area. These data are shown there at the top of those pages in the Overview section, and that's basically what we would want to show for this simple BAP. I'll think about whether or not we want to provide the direct download links to pull data. We will want to provide a link in our rendering of this information back to the iOBIS pages."
   ]
  },
  {
   "cell_type": "code",
   "execution_count": 33,
   "metadata": {
    "collapsed": false,
    "scrolled": true
   },
   "outputs": [
    {
     "data": {
      "text/html": [
       "<a target='_new' href='http://www.iobis.org/explore/#/area/249'>United States: Puerto Rico and Virgin Islands of the United States</a>"
      ],
      "text/plain": [
       "<IPython.core.display.HTML object>"
      ]
     },
     "metadata": {},
     "output_type": "display_data"
    },
    {
     "data": {
      "text/plain": [
       "{'endemic': 229,\n",
       " 'gid': 249,\n",
       " 'gisd': 10,\n",
       " 'hab': 5,\n",
       " 'institutes': 57,\n",
       " 'maxlat': 21.8542523682177,\n",
       " 'maxlon': -63.88888793414,\n",
       " 'minlat': 14.9281934301631,\n",
       " 'minlon': -68.4818895564666,\n",
       " 'name': 'United States: Puerto Rico and Virgin Islands of the United States',\n",
       " 'records': 163090,\n",
       " 'redlist': 476,\n",
       " 'resources': 71,\n",
       " 'species': 2222,\n",
       " 'surface': 0.0,\n",
       " 'taxa': 3553,\n",
       " 'type': 'eez',\n",
       " 'url': None}"
      ]
     },
     "metadata": {},
     "output_type": "display_data"
    },
    {
     "data": {
      "text/html": [
       "<a target='_new' href='http://www.iobis.org/explore/#/area/250'>United States: Wake Island</a>"
      ],
      "text/plain": [
       "<IPython.core.display.HTML object>"
      ]
     },
     "metadata": {},
     "output_type": "display_data"
    },
    {
     "data": {
      "text/plain": [
       "{'endemic': 6,\n",
       " 'gid': 250,\n",
       " 'gisd': 0,\n",
       " 'hab': 0,\n",
       " 'institutes': 20,\n",
       " 'maxlat': 22.6517483672172,\n",
       " 'maxlon': 170.187168656926,\n",
       " 'minlat': 16.0373143741692,\n",
       " 'minlon': 163.071049652078,\n",
       " 'name': 'United States: Wake Island',\n",
       " 'records': 16682,\n",
       " 'redlist': 150,\n",
       " 'resources': 23,\n",
       " 'species': 316,\n",
       " 'surface': 0.0,\n",
       " 'taxa': 422,\n",
       " 'type': 'eez',\n",
       " 'url': None}"
      ]
     },
     "metadata": {},
     "output_type": "display_data"
    },
    {
     "data": {
      "text/html": [
       "<a target='_new' href='http://www.iobis.org/explore/#/area/247'>United States: Northern Mariana Islands and Guam</a>"
      ],
      "text/plain": [
       "<IPython.core.display.HTML object>"
      ]
     },
     "metadata": {},
     "output_type": "display_data"
    },
    {
     "data": {
      "text/plain": [
       "{'endemic': 68,\n",
       " 'gid': 247,\n",
       " 'gisd': 5,\n",
       " 'hab': 0,\n",
       " 'institutes': 45,\n",
       " 'maxlat': 23.8930565599986,\n",
       " 'maxlon': 149.544456639993,\n",
       " 'minlat': 10.9508323601797,\n",
       " 'minlon': 141.19510163,\n",
       " 'name': 'United States: Northern Mariana Islands and Guam',\n",
       " 'records': 189783,\n",
       " 'redlist': 441,\n",
       " 'resources': 51,\n",
       " 'species': 1577,\n",
       " 'surface': 0.0,\n",
       " 'taxa': 2848,\n",
       " 'type': 'eez',\n",
       " 'url': None}"
      ]
     },
     "metadata": {},
     "output_type": "display_data"
    },
    {
     "data": {
      "text/html": [
       "<a target='_new' href='http://www.iobis.org/explore/#/area/240'>United States: American Samoa</a>"
      ],
      "text/plain": [
       "<IPython.core.display.HTML object>"
      ]
     },
     "metadata": {},
     "output_type": "display_data"
    },
    {
     "data": {
      "text/plain": [
       "{'endemic': 20,\n",
       " 'gid': 240,\n",
       " 'gisd': 4,\n",
       " 'hab': 0,\n",
       " 'institutes': 24,\n",
       " 'maxlat': -10.0238876636186,\n",
       " 'maxlon': -165.200832650869,\n",
       " 'minlat': -17.5577786538969,\n",
       " 'minlon': -173.746667652248,\n",
       " 'name': 'United States: American Samoa',\n",
       " 'records': 163911,\n",
       " 'redlist': 421,\n",
       " 'resources': 30,\n",
       " 'species': 869,\n",
       " 'surface': 0.0,\n",
       " 'taxa': 1171,\n",
       " 'type': 'eez',\n",
       " 'url': None}"
      ]
     },
     "metadata": {},
     "output_type": "display_data"
    },
    {
     "data": {
      "text/html": [
       "<a target='_new' href='http://www.iobis.org/explore/#/area/241'>United States: Hawaii</a>"
      ],
      "text/plain": [
       "<IPython.core.display.HTML object>"
      ]
     },
     "metadata": {},
     "output_type": "display_data"
    },
    {
     "data": {
      "text/plain": [
       "{'endemic': 625,\n",
       " 'gid': 241,\n",
       " 'gisd': 33,\n",
       " 'hab': 0,\n",
       " 'institutes': 58,\n",
       " 'maxlat': 31.797866959999,\n",
       " 'maxlon': 180.0000005,\n",
       " 'minlat': 15.5631229400004,\n",
       " 'minlon': -180.00000083,\n",
       " 'name': 'United States: Hawaii',\n",
       " 'records': 505336,\n",
       " 'redlist': 607,\n",
       " 'resources': 92,\n",
       " 'species': 3106,\n",
       " 'surface': 0.0,\n",
       " 'taxa': 5084,\n",
       " 'type': 'eez',\n",
       " 'url': None}"
      ]
     },
     "metadata": {},
     "output_type": "display_data"
    },
    {
     "data": {
      "text/html": [
       "<a target='_new' href='http://www.iobis.org/explore/#/area/239'>United States: Alaska: North Pacific</a>"
      ],
      "text/plain": [
       "<IPython.core.display.HTML object>"
      ]
     },
     "metadata": {},
     "output_type": "display_data"
    },
    {
     "data": {
      "text/plain": [
       "{'endemic': 451,\n",
       " 'gid': 239,\n",
       " 'gisd': 8,\n",
       " 'hab': 29,\n",
       " 'institutes': 84,\n",
       " 'maxlat': 66.510001,\n",
       " 'maxlon': 180.0000005,\n",
       " 'minlat': 47.8813409800037,\n",
       " 'minlon': -180.00000083,\n",
       " 'name': 'United States: Alaska: North Pacific',\n",
       " 'records': 938305,\n",
       " 'redlist': 186,\n",
       " 'resources': 134,\n",
       " 'species': 3128,\n",
       " 'surface': 0.0,\n",
       " 'taxa': 4720,\n",
       " 'type': 'eez',\n",
       " 'url': None}"
      ]
     },
     "metadata": {},
     "output_type": "display_data"
    },
    {
     "data": {
      "text/html": [
       "<a target='_new' href='http://www.iobis.org/explore/#/area/243'>United States: Jarvis Island</a>"
      ],
      "text/plain": [
       "<IPython.core.display.HTML object>"
      ]
     },
     "metadata": {},
     "output_type": "display_data"
    },
    {
     "data": {
      "text/plain": [
       "{'endemic': 2,\n",
       " 'gid': 243,\n",
       " 'gisd': 3,\n",
       " 'hab': 0,\n",
       " 'institutes': 15,\n",
       " 'maxlat': 2.0555563466929,\n",
       " 'maxlon': -157.414443650007,\n",
       " 'minlat': -3.73694564999031,\n",
       " 'minlon': -163.362067649997,\n",
       " 'name': 'United States: Jarvis Island',\n",
       " 'records': 26521,\n",
       " 'redlist': 203,\n",
       " 'resources': 19,\n",
       " 'species': 413,\n",
       " 'surface': 0.0,\n",
       " 'taxa': 605,\n",
       " 'type': 'eez',\n",
       " 'url': None}"
      ]
     },
     "metadata": {},
     "output_type": "display_data"
    },
    {
     "data": {
      "text/html": [
       "<a target='_new' href='http://www.iobis.org/explore/#/area/242'>United States: Howland Island and Baker Island</a>"
      ],
      "text/plain": [
       "<IPython.core.display.HTML object>"
      ]
     },
     "metadata": {},
     "output_type": "display_data"
    },
    {
     "data": {
      "text/plain": [
       "{'endemic': 3,\n",
       " 'gid': 242,\n",
       " 'gisd': 3,\n",
       " 'hab': 0,\n",
       " 'institutes': 14,\n",
       " 'maxlat': 4.16425935999032,\n",
       " 'maxlon': -173.144484660229,\n",
       " 'minlat': -3.00478964793999,\n",
       " 'minlon': -179.968986669994,\n",
       " 'name': 'United States: Howland Island and Baker Island',\n",
       " 'records': 38484,\n",
       " 'redlist': 251,\n",
       " 'resources': 21,\n",
       " 'species': 498,\n",
       " 'surface': 0.0,\n",
       " 'taxa': 657,\n",
       " 'type': 'eez',\n",
       " 'url': None}"
      ]
     },
     "metadata": {},
     "output_type": "display_data"
    },
    {
     "data": {
      "text/html": [
       "<a target='_new' href='http://www.iobis.org/explore/#/area/284'>United States: all</a>"
      ],
      "text/plain": [
       "<IPython.core.display.HTML object>"
      ]
     },
     "metadata": {},
     "output_type": "display_data"
    },
    {
     "data": {
      "text/plain": [
       "{'endemic': 6865,\n",
       " 'gid': 284,\n",
       " 'gisd': 128,\n",
       " 'hab': 57,\n",
       " 'institutes': 204,\n",
       " 'maxlat': 74.709768,\n",
       " 'maxlon': 180.0000005,\n",
       " 'minlat': -17.55777865,\n",
       " 'minlon': -180.00000083,\n",
       " 'name': 'United States: all',\n",
       " 'records': 8919735,\n",
       " 'redlist': 2920,\n",
       " 'resources': 696,\n",
       " 'species': 27108,\n",
       " 'surface': 0.0,\n",
       " 'taxa': 38182,\n",
       " 'type': 'eez',\n",
       " 'url': None}"
      ]
     },
     "metadata": {},
     "output_type": "display_data"
    },
    {
     "data": {
      "text/html": [
       "<a target='_new' href='http://www.iobis.org/explore/#/area/248'>United States: Palmyra Atoll</a>"
      ],
      "text/plain": [
       "<IPython.core.display.HTML object>"
      ]
     },
     "metadata": {},
     "output_type": "display_data"
    },
    {
     "data": {
      "text/plain": [
       "{'endemic': 2,\n",
       " 'gid': 248,\n",
       " 'gisd': 2,\n",
       " 'hab': 0,\n",
       " 'institutes': 16,\n",
       " 'maxlat': 9.78681235999055,\n",
       " 'maxlon': -159.374721661511,\n",
       " 'minlat': 2.66388835102225,\n",
       " 'minlon': -165.755850649998,\n",
       " 'name': 'United States: Palmyra Atoll',\n",
       " 'records': 93915,\n",
       " 'redlist': 337,\n",
       " 'resources': 24,\n",
       " 'species': 645,\n",
       " 'surface': 0.0,\n",
       " 'taxa': 866,\n",
       " 'type': 'eez',\n",
       " 'url': None}"
      ]
     },
     "metadata": {},
     "output_type": "display_data"
    },
    {
     "data": {
      "text/html": [
       "<a target='_new' href='http://www.iobis.org/explore/#/area/246'>United States: North Pacific</a>"
      ],
      "text/plain": [
       "<IPython.core.display.HTML object>"
      ]
     },
     "metadata": {},
     "output_type": "display_data"
    },
    {
     "data": {
      "text/plain": [
       "{'endemic': 1497,\n",
       " 'gid': 246,\n",
       " 'gisd': 45,\n",
       " 'hab': 26,\n",
       " 'institutes': 106,\n",
       " 'maxlat': 49.150001,\n",
       " 'maxlon': -116.915861261173,\n",
       " 'minlat': 30.5419996904644,\n",
       " 'minlon': -129.16350658,\n",
       " 'name': 'United States: North Pacific',\n",
       " 'records': 1351829,\n",
       " 'redlist': 512,\n",
       " 'resources': 170,\n",
       " 'species': 5463,\n",
       " 'surface': 0.0,\n",
       " 'taxa': 8651,\n",
       " 'type': 'eez',\n",
       " 'url': None}"
      ]
     },
     "metadata": {},
     "output_type": "display_data"
    },
    {
     "data": {
      "text/html": [
       "<a target='_new' href='http://www.iobis.org/explore/#/area/244'>United States: Johnston Atoll</a>"
      ],
      "text/plain": [
       "<IPython.core.display.HTML object>"
      ]
     },
     "metadata": {},
     "output_type": "display_data"
    },
    {
     "data": {
      "text/plain": [
       "{'endemic': 9,\n",
       " 'gid': 244,\n",
       " 'gisd': 1,\n",
       " 'hab': 0,\n",
       " 'institutes': 27,\n",
       " 'maxlat': 20.13391537,\n",
       " 'maxlon': -165.97304365004,\n",
       " 'minlat': 13.3587963600356,\n",
       " 'minlon': -173.034017659959,\n",
       " 'name': 'United States: Johnston Atoll',\n",
       " 'records': 25312,\n",
       " 'redlist': 124,\n",
       " 'resources': 34,\n",
       " 'species': 392,\n",
       " 'surface': 0.0,\n",
       " 'taxa': 690,\n",
       " 'type': 'eez',\n",
       " 'url': None}"
      ]
     },
     "metadata": {},
     "output_type": "display_data"
    },
    {
     "data": {
      "text/html": [
       "<a target='_new' href='http://www.iobis.org/explore/#/area/238'>United States: Alaska: Arctic Ocean</a>"
      ],
      "text/plain": [
       "<IPython.core.display.HTML object>"
      ]
     },
     "metadata": {},
     "output_type": "display_data"
    },
    {
     "data": {
      "text/plain": [
       "{'endemic': 68,\n",
       " 'gid': 238,\n",
       " 'gisd': 1,\n",
       " 'hab': 18,\n",
       " 'institutes': 39,\n",
       " 'maxlat': 74.709767999999,\n",
       " 'maxlon': -137.568887900557,\n",
       " 'minlat': 65.7755048425741,\n",
       " 'minlon': -168.97629488,\n",
       " 'name': 'United States: Alaska: Arctic Ocean',\n",
       " 'records': 76887,\n",
       " 'redlist': 64,\n",
       " 'resources': 60,\n",
       " 'species': 971,\n",
       " 'surface': 0.0,\n",
       " 'taxa': 1941,\n",
       " 'type': 'eez',\n",
       " 'url': None}"
      ]
     },
     "metadata": {},
     "output_type": "display_data"
    },
    {
     "data": {
      "text/html": [
       "<a target='_new' href='http://www.iobis.org/explore/#/area/245'>United States: North Atlantic</a>"
      ],
      "text/plain": [
       "<IPython.core.display.HTML object>"
      ]
     },
     "metadata": {},
     "output_type": "display_data"
    },
    {
     "data": {
      "text/plain": [
       "{'endemic': 3623,\n",
       " 'gid': 245,\n",
       " 'gisd': 109,\n",
       " 'hab': 51,\n",
       " 'institutes': 141,\n",
       " 'maxlat': 45.165001,\n",
       " 'maxlon': -65.6997212200607,\n",
       " 'minlat': 23.817499,\n",
       " 'minlon': -97.969138722761,\n",
       " 'name': 'United States: North Atlantic',\n",
       " 'records': 5329697,\n",
       " 'redlist': 1675,\n",
       " 'resources': 430,\n",
       " 'species': 17667,\n",
       " 'surface': 0.0,\n",
       " 'taxa': 25647,\n",
       " 'type': 'eez',\n",
       " 'url': None}"
      ]
     },
     "metadata": {},
     "output_type": "display_data"
    }
   ],
   "source": [
    "# Loop the US areas to make links to get the backend OBIS data summarizing the areas\n",
    "for hit in usAreas[\"hits\"][\"hits\"]:\n",
    "    areaId = str(hit[\"fields\"][\"properties.areaid\"][0])\n",
    "    display(HTML(\"<a target='_new' href='http://www.iobis.org/explore/#/area/\"+areaId+\"'>\"+hit[\"fields\"][\"properties.name\"][0]+\"</a>\"))\n",
    "    areaSummary = requests.get(\"http://backend.iobis.org/area/\"+areaId).json()\n",
    "    display(areaSummary)"
   ]
  },
  {
   "cell_type": "code",
   "execution_count": null,
   "metadata": {
    "collapsed": true
   },
   "outputs": [],
   "source": []
  }
 ],
 "metadata": {
  "kernelspec": {
   "display_name": "Python 3",
   "language": "python",
   "name": "python3"
  },
  "language_info": {
   "codemirror_mode": {
    "name": "ipython",
    "version": 3
   },
   "file_extension": ".py",
   "mimetype": "text/x-python",
   "name": "python",
   "nbconvert_exporter": "python",
   "pygments_lexer": "ipython3",
   "version": "3.5.3"
  }
 },
 "nbformat": 4,
 "nbformat_minor": 0
}
