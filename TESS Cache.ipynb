{
 "cells": [
  {
   "cell_type": "markdown",
   "metadata": {},
   "source": [
    "# Get FWS TESS information and cache it in tircache"
   ]
  },
  {
   "cell_type": "markdown",
   "metadata": {},
   "source": [
    "This notebook builds on the previous notebook that caches from ITIS. This one uses the same basic methods to get information from the US Fish and Wildlife Service's Ecological Conservation Online System (ECOS), Threatened and Endangered Species System (TESS) on Federal listing status under the Endangered Species Act. This information is cached in the tircache."
   ]
  },
  {
   "cell_type": "code",
   "execution_count": 60,
   "metadata": {
    "collapsed": false
   },
   "outputs": [],
   "source": [
    "import requests,datetime,configparser\n",
    "from IPython.display import display\n",
    "from lxml import etree\n",
    "from io import StringIO, BytesIO"
   ]
  },
  {
   "cell_type": "code",
   "execution_count": 61,
   "metadata": {
    "collapsed": true
   },
   "outputs": [],
   "source": [
    "# Set defaults\n",
    "targetData = \"sgcn\"\n",
    "dt = datetime.datetime.utcnow().isoformat()\n",
    "tessSpeciesQueryByTSNBaseURL = \"https://ecos.fws.gov/ecp0/TessQuery?request=query&xquery=/SPECIES_DETAIL[TSN=\""
   ]
  },
  {
   "cell_type": "code",
   "execution_count": 62,
   "metadata": {
    "collapsed": true
   },
   "outputs": [],
   "source": [
    "# Get API keys and any other config details from a file that is external to the code.\n",
    "config = configparser.RawConfigParser()\n",
    "config.read_file(open(r'/Users/sky/Documents/configs/stuff.py'))"
   ]
  },
  {
   "cell_type": "code",
   "execution_count": 63,
   "metadata": {
    "collapsed": false
   },
   "outputs": [],
   "source": [
    "# Build base URL with API key using input the external config.\n",
    "def getBaseURL():\n",
    "    gc2APIKey = config.get('apiKeys','apiKey_GC2_BCB').replace('\"','')\n",
    "    apiBaseURL = \"https://gc2.mapcentia.com/api/v1/sql/bcb?key=\"+gc2APIKey\n",
    "    return apiBaseURL"
   ]
  },
  {
   "cell_type": "code",
   "execution_count": 64,
   "metadata": {
    "collapsed": true
   },
   "outputs": [],
   "source": [
    "# Basic function to insert subject ID, property, and value into tircache\n",
    "def insertTupleInTirCache(subjectid,prop,value):\n",
    "    # Build query string\n",
    "    insertSQL = \"INSERT INTO tircache (subjectid,property,value) VALUES ('\"+subjectid+\"','\"+prop+\"','\"+value+\"')\"\n",
    "    # Execute query\n",
    "    r = requests.get(getBaseURL()+\"&q=\"+insertSQL)"
   ]
  },
  {
   "cell_type": "code",
   "execution_count": 65,
   "metadata": {
    "collapsed": true
   },
   "outputs": [],
   "source": [
    "# Retrieve target data (only SGCN ITIS IDs at this point)\n",
    "def getSubjectIDs(targetData):\n",
    "    if targetData == 'sgcn':\n",
    "        # Build query string to retrieve data\n",
    "        targetDataSQL = \"SELECT DISTINCT sgcn.taxonomicauthorityid_accepted AS subjectid \\\n",
    "            FROM sgcn \\\n",
    "            WHERE sgcn.taxonomicauthorityid_accepted LIKE '%itis%' \\\n",
    "            AND sgcn.taxonomicauthorityid_accepted NOT IN \\\n",
    "            (SELECT tircache.subjectid FROM tircache WHERE tircache.subjectid LIKE '%itis%' \\\n",
    "            AND tircache.property LIKE 'TESS:RecordCheck%') \\\n",
    "            LIMIT 4000\"\n",
    "        # Get Data\n",
    "        targetData = requests.get(getBaseURL()+\"&q=\"+targetDataSQL, verify='/Users/sky/cacert.pem').json()\n",
    "        return targetData"
   ]
  },
  {
   "cell_type": "code",
   "execution_count": 66,
   "metadata": {
    "collapsed": true
   },
   "outputs": [],
   "source": [
    "# Extract the TSN from the longer \"URI-like\" string we used for ITIS in the SGCN data\n",
    "def extractTSN(subjectid):\n",
    "    tsn = subjectid.replace('http://services.itis.gov/?q=tsn:','')\n",
    "    return tsn"
   ]
  },
  {
   "cell_type": "code",
   "execution_count": 67,
   "metadata": {
    "collapsed": false
   },
   "outputs": [],
   "source": [
    "# Loop through the target data, extract Subject IDs (only ITIS at this point), retrieve data from service, \n",
    "# and insert results in tircache\n",
    "def getTESSInfoFromTSN(targetData):\n",
    "    for feature in targetData['features']:\n",
    "        # Set the subjectid for query and recording\n",
    "        strSubjectId = feature['properties']['subjectid']\n",
    "        \n",
    "        # Set the URL path to get the common names from TSN via one of the ITIS JSON service end points, get the response JSON, and pull out the common names structure\n",
    "        tessQueryURL = tessSpeciesQueryByTSNBaseURL+extractTSN(strSubjectId)+\"]\"\n",
    "        tessData = requests.get(tessQueryURL)\n",
    "        if tessData.text.find('<results/>') > 0:\n",
    "            insertTupleInTirCache(strSubjectId,\"TESS:RecordCheck:NegativeResponse\",dt)\n",
    "        else:\n",
    "            try:\n",
    "                insertTupleInTirCache(strSubjectId,\"TESS:RecordCheck:PositiveResponse\",dt)\n",
    "                rawXML = tessData.text.replace('<?xml version=\"1.0\" encoding=\"iso-8859-1\"?>', '')\n",
    "                f = StringIO(rawXML)\n",
    "                tree = etree.parse(f)\n",
    "                insertTupleInTirCache(strSubjectId,\"TESS:entityId\",tree.xpath('/results/SPECIES_DETAIL/ENTITY_ID')[0].text)\n",
    "                insertTupleInTirCache(strSubjectId,\"TESS:SpeciesCode\",tree.xpath('/results/SPECIES_DETAIL/SPCODE')[0].text)\n",
    "                insertTupleInTirCache(strSubjectId,\"TESS:CommonName\",tree.xpath('/results/SPECIES_DETAIL/COMNAME')[0].text)\n",
    "                insertTupleInTirCache(strSubjectId,\"TESS:PopulationDescription\",tree.xpath('/results/SPECIES_DETAIL/POP_DESC')[0].text)\n",
    "                insertTupleInTirCache(strSubjectId,\"TESS:Status\",tree.xpath('/results/SPECIES_DETAIL/STATUS')[0].text)\n",
    "                insertTupleInTirCache(strSubjectId,\"TESS:StatusText\",tree.xpath('/results/SPECIES_DETAIL/STATUS_TEXT')[0].text)\n",
    "                rListingDate = tree.xpath('/results/SPECIES_DETAIL/LISTING_DATE')\n",
    "                if len(rListingDate) > 0:\n",
    "                    insertTupleInTirCache(strSubjectId,\"TESS:ListingDate\",rListingDate[0].text)\n",
    "            except:\n",
    "                print (\"Problem with \"+tessQueryURL)"
   ]
  },
  {
   "cell_type": "code",
   "execution_count": 68,
   "metadata": {
    "collapsed": false,
    "scrolled": true
   },
   "outputs": [],
   "source": [
    "# Run the process by firing functions\n",
    "getTESSInfoFromTSN(getSubjectIDs(\"sgcn\"))"
   ]
  },
  {
   "cell_type": "code",
   "execution_count": null,
   "metadata": {
    "collapsed": true
   },
   "outputs": [],
   "source": []
  }
 ],
 "metadata": {
  "anaconda-cloud": {},
  "kernelspec": {
   "display_name": "Python 3",
   "language": "python",
   "name": "python3"
  },
  "language_info": {
   "codemirror_mode": {
    "name": "ipython",
    "version": 3
   },
   "file_extension": ".py",
   "mimetype": "text/x-python",
   "name": "python",
   "nbconvert_exporter": "python",
   "pygments_lexer": "ipython3",
   "version": "3.5.3"
  }
 },
 "nbformat": 4,
 "nbformat_minor": 0
}
