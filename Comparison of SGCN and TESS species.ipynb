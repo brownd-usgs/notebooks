{
 "cells": [
  {
   "cell_type": "markdown",
   "metadata": {},
   "source": [
    "# Comparison of SGCN species with FWS listed species\n",
    "\n",
    "The USGS SWAP system uses the list of species aligned with the Integrated Taxonomic Information System to check the US Fish and Wildlife Service Ecological Conservation Online System-Threatened and Endangered Species System for species that have a Federal listing status. This notebook simply shows the total numbers of species that have been found with Federal listing status and those without Federal status. We will further examine the best way of presenting this information. "
   ]
  },
  {
   "cell_type": "code",
   "execution_count": 5,
   "metadata": {
    "collapsed": true
   },
   "outputs": [],
   "source": [
    "import requests\n",
    "from IPython.display import display\n",
    "\n",
    "apiBaseURL = \"https://gc2.mapcentia.com/api/v1/sql/bcb\""
   ]
  },
  {
   "cell_type": "code",
   "execution_count": 6,
   "metadata": {
    "collapsed": false
   },
   "outputs": [
    {
     "name": "stdout",
     "output_type": "stream",
     "text": [
      "Number of species found with some listing status: 2743\n",
      "Number of species not found in the USFWS system: 11204\n"
     ]
    }
   ],
   "source": [
    "sqlCountTESSFound = \"SELECT count(*) FROM tircache WHERE property = 'TESS:RecordCheck:PositiveResponse'\"\n",
    "sqlCountTESSNotFound = \"SELECT count(*) FROM tircache WHERE property = 'TESS:RecordCheck:NegativeResponse'\"\n",
    "\n",
    "countTESSFound = requests.get(apiBaseURL+\"?q=\"+sqlCountTESSFound).json()\n",
    "for feature in countTESSFound['features']:\n",
    "    print (\"Number of species found with some listing status: \"+str(feature['properties']['count']))\n",
    "countTESSNotFound = requests.get(apiBaseURL+\"?q=\"+sqlCountTESSNotFound).json()\n",
    "for feature in countTESSNotFound['features']:\n",
    "    print (\"Number of species not found in the USFWS system: \"+str(feature['properties']['count']))"
   ]
  },
  {
   "cell_type": "code",
   "execution_count": null,
   "metadata": {
    "collapsed": true
   },
   "outputs": [],
   "source": []
  }
 ],
 "metadata": {
  "kernelspec": {
   "display_name": "Python 3",
   "language": "python",
   "name": "python3"
  },
  "language_info": {
   "codemirror_mode": {
    "name": "ipython",
    "version": 3
   },
   "file_extension": ".py",
   "mimetype": "text/x-python",
   "name": "python",
   "nbconvert_exporter": "python",
   "pygments_lexer": "ipython3",
   "version": "3.5.3"
  }
 },
 "nbformat": 4,
 "nbformat_minor": 0
}
