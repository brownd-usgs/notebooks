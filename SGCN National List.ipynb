{
 "cells": [
  {
   "cell_type": "markdown",
   "metadata": {
    "deletable": true,
    "editable": true
   },
   "source": [
    "# SGCN National List\n",
    "\n",
    "The full [national list](https://www1.usgs.gov/csas/swap/national_list.html) of SGCN species across 2005 and 2015 represents a relatively complex query that needs to sum up the total states reporting each species. There may be some way to drive everything with some feature of the Elasticsearch index on the full original data that I haven't figured out yet, but I was only able to come up with a SQL statement to drive this.\n",
    "```sql\n",
    " SELECT sgcn.scientificname_accepted AS scientificname,\n",
    "    (array_agg(sgcn.taxonomicauthorityid_accepted ORDER BY sgcn.sgcnyear DESC))[1] AS taxonomicauthorityid,\n",
    "    (array_agg(sgcn.commonname_submitted ORDER BY sgcn.sgcnyear DESC))[1] AS commonname,\n",
    "    (array_agg(sgcn.taxonomicgroup_submitted ORDER BY sgcn.sgcnyear DESC))[1] AS taxonomicgroup,\n",
    "    sum(((sgcn.sgcnyear = 2005))::integer) AS sgcn2005,\n",
    "    sum(((sgcn.sgcnyear = 2015))::integer) AS sgcn2015\n",
    "   FROM sgcn\n",
    "  WHERE sgcn.taxonomicauthorityid_accepted <> ''\n",
    "  GROUP BY sgcn.scientificname_accepted\n",
    "```  \n",
    "Running that live is way too costly on the system, so I built a view in GC2 using this select statement and indexed that in Elasticsearch as sgcn_nationallist. This results in a much more responsive query. This query selects only those records where there is an accepted taxonomic authority ID, which is the basic definition of what ends up on the national list."
   ]
  },
  {
   "cell_type": "code",
   "execution_count": 1,
   "metadata": {
    "collapsed": true,
    "deletable": true,
    "editable": true
   },
   "outputs": [],
   "source": [
    "import requests\n",
    "from ipywidgets import interactive\n",
    "import ipywidgets as widgets\n",
    "from IPython.display import display"
   ]
  },
  {
   "cell_type": "code",
   "execution_count": 2,
   "metadata": {
    "collapsed": true,
    "deletable": true,
    "editable": true
   },
   "outputs": [],
   "source": [
    "#Class to render tables\n",
    "class ListTable(list):\n",
    "    def _repr_html_(self):\n",
    "        html = [\"<table>\"]\n",
    "        for row in self:\n",
    "            html.append(\"<tr>\")\n",
    "            \n",
    "            for col in row:\n",
    "                html.append(\"<td>{0}</td>\".format(col))\n",
    "            \n",
    "            html.append(\"</tr>\")\n",
    "        html.append(\"</table>\")\n",
    "        return ''.join(html)"
   ]
  },
  {
   "cell_type": "markdown",
   "metadata": {
    "deletable": true,
    "editable": true
   },
   "source": [
    "This query returns results from the Elasticsearch index for the sgcn_nationallist view. It only calls the first 100 results, so that will need to be paginated for the SWAP online app. I included the taxonomic authority ID as a reference. Those IDs to ITIS or WoRMS return a machine-readable response and are not content negotiable, so if we want to include them in the UI, we would need to translate the ID into something for humans."
   ]
  },
  {
   "cell_type": "code",
   "execution_count": 3,
   "metadata": {
    "collapsed": false,
    "deletable": true,
    "editable": true,
    "scrolled": true
   },
   "outputs": [
    {
     "data": {
      "text/html": [
       "<table><tr><td>Scientific Name</td><td>Common Name</td><td>2005</td><td>2015</td><td>Taxonomic Group</td><td>Taxonomic Authority ID/Link</td></tr><tr><td>Acroporidae</td><td>NA</td><td>0</td><td>1</td><td>Other Invertebrates</td><td>http://services.itis.gov/?q=tsn:52859</td></tr><tr><td>Actinemys marmorata</td><td>Western Pond Turtle</td><td>6</td><td>3</td><td>Reptiles</td><td>http://services.itis.gov/?q=tsn:668668</td></tr><tr><td>Adelocosa anops</td><td>Kauai cave wolf spider</td><td>1</td><td>0</td><td>Arachnids</td><td>http://services.itis.gov/?q=tsn:849993</td></tr><tr><td>Adenophorus periens</td><td>no common name</td><td>1</td><td>0</td><td>Plants</td><td>http://services.itis.gov/?q=tsn:17844</td></tr><tr><td>Adiantum aleuticum</td><td>Aleutian Maidenhair-fern</td><td>1</td><td>1</td><td>Plants</td><td>http://services.itis.gov/?q=tsn:181788</td></tr><tr><td>Aegialia concinna</td><td>Ciervo Aegialian Scarab Beetle</td><td>1</td><td>0</td><td>Insects</td><td>http://services.itis.gov/?q=tsn:926712</td></tr><tr><td>Aeropedellus clavatus</td><td>Club-horned Grasshopper</td><td>1</td><td>1</td><td>Insects</td><td>http://services.itis.gov/?q=tsn:657840</td></tr><tr><td>Aesculus glabra var. arguta</td><td>Ohio Buckeye</td><td>1</td><td>1</td><td>Plants</td><td>http://services.itis.gov/?q=tsn:28720</td></tr><tr><td>Aeshna interrupta</td><td>Variable Darner</td><td>1</td><td>3</td><td>Insects</td><td>http://services.itis.gov/?q=tsn:185979</td></tr><tr><td>Aethia cristatella</td><td>Crested Auklet</td><td>1</td><td>0</td><td>Birds</td><td>http://services.itis.gov/?q=tsn:177019</td></tr><tr><td>Aethia pusilla</td><td>Least Auklet</td><td>1</td><td>0</td><td>Birds</td><td>http://services.itis.gov/?q=tsn:177020</td></tr><tr><td>Aethra edentata</td><td>flat elbow crab</td><td>1</td><td>0</td><td>Crustaceans</td><td>http://services.itis.gov/?q=tsn:660519</td></tr><tr><td>Agabus aeruginosus</td><td>A Predaceous Diving Beetle</td><td>1</td><td>1</td><td>Insects</td><td>http://services.itis.gov/?q=tsn:112009</td></tr><tr><td>Agabus canadensis</td><td>A Predaceous Diving Beetle</td><td>1</td><td>0</td><td>Insects</td><td>http://services.itis.gov/?q=tsn:112001</td></tr><tr><td>Agabus confinis</td><td>A Predaceous Diving Beetle</td><td>1</td><td>0</td><td>Insects</td><td>http://services.itis.gov/?q=tsn:111997</td></tr><tr><td>Agabus leptapsis</td><td>A Predaceous Diving Beetle</td><td>1</td><td>1</td><td>Insects</td><td>http://services.itis.gov/?q=tsn:112017</td></tr><tr><td>Agalinis calycina</td><td>Leoncita false foxglove</td><td>0</td><td>1</td><td>Plants</td><td>http://services.itis.gov/?q=tsn:33010</td></tr><tr><td>Agalinis densiflora</td><td>Osage Plains false foxglove</td><td>0</td><td>1</td><td>Plants</td><td>http://services.itis.gov/?q=tsn:182271</td></tr><tr><td>Agalinis heterophylla</td><td>Prairie false foxglove</td><td>1</td><td>1</td><td>Plants</td><td>http://services.itis.gov/?q=tsn:33027</td></tr><tr><td>Agalinis tenuifolia</td><td>Narrow-leaf False Foxglove</td><td>0</td><td>1</td><td>Plants</td><td>http://services.itis.gov/?q=tsn:33036</td></tr><tr><td>Agallissus lepturoides</td><td>no common name</td><td>1</td><td>0</td><td>Insects</td><td>http://services.itis.gov/?q=tsn:702422</td></tr><tr><td>Agarodes distinctus</td><td>A Caddisfly</td><td>1</td><td>0</td><td>Insects</td><td>http://services.itis.gov/?q=tsn:116984</td></tr><tr><td>Agastache foeniculum</td><td>Lavender Giant-hyssop</td><td>1</td><td>1</td><td>Plants</td><td>http://services.itis.gov/?q=tsn:32440</td></tr><tr><td>Agastache nepetoides</td><td>Yellow Giant Hyssop</td><td>2</td><td>1</td><td>Plants</td><td>http://services.itis.gov/?q=tsn:32443</td></tr><tr><td>Agave X glomeruliflora</td><td>Chisos agave</td><td>0</td><td>1</td><td>Plants</td><td>http://services.itis.gov/?q=tsn:810235</td></tr></table>"
      ],
      "text/plain": [
       "[['Scientific Name',\n",
       "  'Common Name',\n",
       "  '2005',\n",
       "  '2015',\n",
       "  'Taxonomic Group',\n",
       "  'Taxonomic Authority ID/Link'],\n",
       " ['Acroporidae',\n",
       "  'NA',\n",
       "  0,\n",
       "  1,\n",
       "  'Other Invertebrates',\n",
       "  'http://services.itis.gov/?q=tsn:52859'],\n",
       " ['Actinemys marmorata',\n",
       "  'Western Pond Turtle',\n",
       "  6,\n",
       "  3,\n",
       "  'Reptiles',\n",
       "  'http://services.itis.gov/?q=tsn:668668'],\n",
       " ['Adelocosa anops',\n",
       "  'Kauai cave wolf spider',\n",
       "  1,\n",
       "  0,\n",
       "  'Arachnids',\n",
       "  'http://services.itis.gov/?q=tsn:849993'],\n",
       " ['Adenophorus periens',\n",
       "  'no common name',\n",
       "  1,\n",
       "  0,\n",
       "  'Plants',\n",
       "  'http://services.itis.gov/?q=tsn:17844'],\n",
       " ['Adiantum aleuticum',\n",
       "  'Aleutian Maidenhair-fern',\n",
       "  1,\n",
       "  1,\n",
       "  'Plants',\n",
       "  'http://services.itis.gov/?q=tsn:181788'],\n",
       " ['Aegialia concinna',\n",
       "  'Ciervo Aegialian Scarab Beetle',\n",
       "  1,\n",
       "  0,\n",
       "  'Insects',\n",
       "  'http://services.itis.gov/?q=tsn:926712'],\n",
       " ['Aeropedellus clavatus',\n",
       "  'Club-horned Grasshopper',\n",
       "  1,\n",
       "  1,\n",
       "  'Insects',\n",
       "  'http://services.itis.gov/?q=tsn:657840'],\n",
       " ['Aesculus glabra var. arguta',\n",
       "  'Ohio Buckeye',\n",
       "  1,\n",
       "  1,\n",
       "  'Plants',\n",
       "  'http://services.itis.gov/?q=tsn:28720'],\n",
       " ['Aeshna interrupta',\n",
       "  'Variable Darner',\n",
       "  1,\n",
       "  3,\n",
       "  'Insects',\n",
       "  'http://services.itis.gov/?q=tsn:185979'],\n",
       " ['Aethia cristatella',\n",
       "  'Crested Auklet',\n",
       "  1,\n",
       "  0,\n",
       "  'Birds',\n",
       "  'http://services.itis.gov/?q=tsn:177019'],\n",
       " ['Aethia pusilla',\n",
       "  'Least Auklet',\n",
       "  1,\n",
       "  0,\n",
       "  'Birds',\n",
       "  'http://services.itis.gov/?q=tsn:177020'],\n",
       " ['Aethra edentata',\n",
       "  'flat elbow crab',\n",
       "  1,\n",
       "  0,\n",
       "  'Crustaceans',\n",
       "  'http://services.itis.gov/?q=tsn:660519'],\n",
       " ['Agabus aeruginosus',\n",
       "  'A Predaceous Diving Beetle',\n",
       "  1,\n",
       "  1,\n",
       "  'Insects',\n",
       "  'http://services.itis.gov/?q=tsn:112009'],\n",
       " ['Agabus canadensis',\n",
       "  'A Predaceous Diving Beetle',\n",
       "  1,\n",
       "  0,\n",
       "  'Insects',\n",
       "  'http://services.itis.gov/?q=tsn:112001'],\n",
       " ['Agabus confinis',\n",
       "  'A Predaceous Diving Beetle',\n",
       "  1,\n",
       "  0,\n",
       "  'Insects',\n",
       "  'http://services.itis.gov/?q=tsn:111997'],\n",
       " ['Agabus leptapsis',\n",
       "  'A Predaceous Diving Beetle',\n",
       "  1,\n",
       "  1,\n",
       "  'Insects',\n",
       "  'http://services.itis.gov/?q=tsn:112017'],\n",
       " ['Agalinis calycina',\n",
       "  'Leoncita false foxglove',\n",
       "  0,\n",
       "  1,\n",
       "  'Plants',\n",
       "  'http://services.itis.gov/?q=tsn:33010'],\n",
       " ['Agalinis densiflora',\n",
       "  'Osage Plains false foxglove',\n",
       "  0,\n",
       "  1,\n",
       "  'Plants',\n",
       "  'http://services.itis.gov/?q=tsn:182271'],\n",
       " ['Agalinis heterophylla',\n",
       "  'Prairie false foxglove',\n",
       "  1,\n",
       "  1,\n",
       "  'Plants',\n",
       "  'http://services.itis.gov/?q=tsn:33027'],\n",
       " ['Agalinis tenuifolia',\n",
       "  'Narrow-leaf False Foxglove',\n",
       "  0,\n",
       "  1,\n",
       "  'Plants',\n",
       "  'http://services.itis.gov/?q=tsn:33036'],\n",
       " ['Agallissus lepturoides',\n",
       "  'no common name',\n",
       "  1,\n",
       "  0,\n",
       "  'Insects',\n",
       "  'http://services.itis.gov/?q=tsn:702422'],\n",
       " ['Agarodes distinctus',\n",
       "  'A Caddisfly',\n",
       "  1,\n",
       "  0,\n",
       "  'Insects',\n",
       "  'http://services.itis.gov/?q=tsn:116984'],\n",
       " ['Agastache foeniculum',\n",
       "  'Lavender Giant-hyssop',\n",
       "  1,\n",
       "  1,\n",
       "  'Plants',\n",
       "  'http://services.itis.gov/?q=tsn:32440'],\n",
       " ['Agastache nepetoides',\n",
       "  'Yellow Giant Hyssop',\n",
       "  2,\n",
       "  1,\n",
       "  'Plants',\n",
       "  'http://services.itis.gov/?q=tsn:32443'],\n",
       " ['Agave X glomeruliflora',\n",
       "  'Chisos agave',\n",
       "  0,\n",
       "  1,\n",
       "  'Plants',\n",
       "  'http://services.itis.gov/?q=tsn:810235']]"
      ]
     },
     "metadata": {},
     "output_type": "display_data"
    }
   ],
   "source": [
    "sgcnNationalListURL = \"https://gc2.mapcentia.com/api/v1/elasticsearch/search/bcb/public/sgcn_nationallist?size=25&from=25\"\n",
    "sgcnNationalList = requests.get(sgcnNationalListURL).json()\n",
    "\n",
    "tableNationalList = ListTable()\n",
    "tableNationalList.append(['Scientific Name', 'Common Name', '2005', '2015', 'Taxonomic Group', 'Taxonomic Authority ID/Link'])\n",
    "\n",
    "for hit in sgcnNationalList['hits']['hits']:\n",
    "    tableNationalList.append([hit['_source']['properties']['scientificname'], hit['_source']['properties']['commonname'], hit['_source']['properties']['sgcn2005'], hit['_source']['properties']['sgcn2015'], hit['_source']['properties']['taxonomicgroup'], hit['_source']['properties']['taxonomicauthorityid']])\n",
    "\n",
    "display(tableNationalList)"
   ]
  },
  {
   "cell_type": "markdown",
   "metadata": {
    "deletable": true,
    "editable": true
   },
   "source": [
    "# Still to do\n",
    "\n",
    "Included on the National List page in the current SWAP app are a couple of filtering features that allow users to select one or more years and/or taxonomic groups to view. These can likely be handled through aggregators in Elasticsearch. So far, I have not had any luck getting aggregator syntax to work through query DSL against the Elasticsearch API from GC2. I posted a question to the support guys to see if I can find some working examples. As far as I know, we should be able to easily configure aggs to work for both year (2005 or 2015) and the taxonomicgroup from the Elasticsearch index created from the database view.\n",
    "\n",
    "I added size and from parameters to the above search example to demonstrate what can be used in paginating the national list results from Elasticsearch. These can also be submitted using Elasticsearch query DSL syntax instead of the discrete URL parameters.\n",
    "\n",
    "The national list page also shows a \"Progress Map\" of states that have submitted lists for 2015. This is a simple query on distinct states from the sgcn table."
   ]
  },
  {
   "cell_type": "code",
   "execution_count": null,
   "metadata": {
    "collapsed": true,
    "deletable": true,
    "editable": true
   },
   "outputs": [],
   "source": []
  }
 ],
 "metadata": {
  "kernelspec": {
   "display_name": "Python 3",
   "language": "python",
   "name": "python3"
  },
  "language_info": {
   "codemirror_mode": {
    "name": "ipython",
    "version": 3
   },
   "file_extension": ".py",
   "mimetype": "text/x-python",
   "name": "python",
   "nbconvert_exporter": "python",
   "pygments_lexer": "ipython3",
   "version": "3.5.3"
  }
 },
 "nbformat": 4,
 "nbformat_minor": 0
}
